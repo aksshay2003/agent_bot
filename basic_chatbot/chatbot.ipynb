{
 "cells": [
  {
   "cell_type": "code",
   "execution_count": 1,
   "id": "9c5cc914",
   "metadata": {},
   "outputs": [
    {
     "data": {
      "text/plain": [
       "2"
      ]
     },
     "execution_count": 1,
     "metadata": {},
     "output_type": "execute_result"
    }
   ],
   "source": [
    "1+1"
   ]
  },
  {
   "cell_type": "code",
   "execution_count": 1,
   "id": "3080f853",
   "metadata": {},
   "outputs": [
    {
     "name": "stdout",
     "output_type": "stream",
     "text": [
      "Collecting langgraph\n",
      "  Using cached langgraph-0.4.8-py3-none-any.whl.metadata (6.8 kB)\n",
      "Collecting langchain-core>=0.1 (from langgraph)\n",
      "  Using cached langchain_core-0.3.66-py3-none-any.whl.metadata (5.8 kB)\n",
      "Collecting langgraph-checkpoint>=2.0.26 (from langgraph)\n",
      "  Using cached langgraph_checkpoint-2.1.0-py3-none-any.whl.metadata (4.2 kB)\n",
      "Collecting langgraph-prebuilt>=0.2.0 (from langgraph)\n",
      "  Using cached langgraph_prebuilt-0.2.2-py3-none-any.whl.metadata (4.5 kB)\n",
      "Collecting langgraph-sdk>=0.1.42 (from langgraph)\n",
      "  Using cached langgraph_sdk-0.1.70-py3-none-any.whl.metadata (1.5 kB)\n",
      "Requirement already satisfied: pydantic>=2.7.4 in c:\\users\\ranga\\appdata\\local\\programs\\python\\python311\\lib\\site-packages (from langgraph) (2.10.2)\n",
      "Collecting xxhash>=3.5.0 (from langgraph)\n",
      "  Using cached xxhash-3.5.0-cp311-cp311-win_amd64.whl.metadata (13 kB)\n",
      "Collecting langsmith>=0.3.45 (from langchain-core>=0.1->langgraph)\n",
      "  Using cached langsmith-0.4.1-py3-none-any.whl.metadata (15 kB)\n",
      "Collecting tenacity!=8.4.0,<10.0.0,>=8.1.0 (from langchain-core>=0.1->langgraph)\n",
      "  Using cached tenacity-9.1.2-py3-none-any.whl.metadata (1.2 kB)\n",
      "Collecting jsonpatch<2.0,>=1.33 (from langchain-core>=0.1->langgraph)\n",
      "  Using cached jsonpatch-1.33-py2.py3-none-any.whl.metadata (3.0 kB)\n",
      "Requirement already satisfied: PyYAML>=5.3 in c:\\users\\ranga\\appdata\\local\\programs\\python\\python311\\lib\\site-packages (from langchain-core>=0.1->langgraph) (6.0.1)\n",
      "Requirement already satisfied: packaging<25,>=23.2 in c:\\users\\ranga\\appdata\\local\\programs\\python\\python311\\lib\\site-packages (from langchain-core>=0.1->langgraph) (24.0)\n",
      "Requirement already satisfied: typing-extensions>=4.7 in c:\\users\\ranga\\appdata\\local\\programs\\python\\python311\\lib\\site-packages (from langchain-core>=0.1->langgraph) (4.12.2)\n",
      "Requirement already satisfied: jsonpointer>=1.9 in c:\\users\\ranga\\appdata\\local\\programs\\python\\python311\\lib\\site-packages (from jsonpatch<2.0,>=1.33->langchain-core>=0.1->langgraph) (2.4)\n",
      "Collecting ormsgpack>=1.10.0 (from langgraph-checkpoint>=2.0.26->langgraph)\n",
      "  Using cached ormsgpack-1.10.0-cp311-cp311-win_amd64.whl.metadata (44 kB)\n",
      "Requirement already satisfied: httpx>=0.25.2 in c:\\users\\ranga\\appdata\\local\\programs\\python\\python311\\lib\\site-packages (from langgraph-sdk>=0.1.42->langgraph) (0.27.0)\n",
      "Collecting orjson>=3.10.1 (from langgraph-sdk>=0.1.42->langgraph)\n",
      "  Using cached orjson-3.10.18-cp311-cp311-win_amd64.whl.metadata (43 kB)\n",
      "Requirement already satisfied: anyio in c:\\users\\ranga\\appdata\\local\\programs\\python\\python311\\lib\\site-packages (from httpx>=0.25.2->langgraph-sdk>=0.1.42->langgraph) (4.4.0)\n",
      "Requirement already satisfied: certifi in c:\\users\\ranga\\appdata\\local\\programs\\python\\python311\\lib\\site-packages (from httpx>=0.25.2->langgraph-sdk>=0.1.42->langgraph) (2024.2.2)\n",
      "Requirement already satisfied: httpcore==1.* in c:\\users\\ranga\\appdata\\local\\programs\\python\\python311\\lib\\site-packages (from httpx>=0.25.2->langgraph-sdk>=0.1.42->langgraph) (1.0.5)\n",
      "Requirement already satisfied: idna in c:\\users\\ranga\\appdata\\local\\programs\\python\\python311\\lib\\site-packages (from httpx>=0.25.2->langgraph-sdk>=0.1.42->langgraph) (3.7)\n",
      "Requirement already satisfied: sniffio in c:\\users\\ranga\\appdata\\local\\programs\\python\\python311\\lib\\site-packages (from httpx>=0.25.2->langgraph-sdk>=0.1.42->langgraph) (1.3.1)\n",
      "Requirement already satisfied: h11<0.15,>=0.13 in c:\\users\\ranga\\appdata\\local\\programs\\python\\python311\\lib\\site-packages (from httpcore==1.*->httpx>=0.25.2->langgraph-sdk>=0.1.42->langgraph) (0.14.0)\n",
      "Requirement already satisfied: requests<3,>=2 in c:\\users\\ranga\\appdata\\local\\programs\\python\\python311\\lib\\site-packages (from langsmith>=0.3.45->langchain-core>=0.1->langgraph) (2.31.0)\n",
      "Collecting requests-toolbelt<2.0.0,>=1.0.0 (from langsmith>=0.3.45->langchain-core>=0.1->langgraph)\n",
      "  Using cached requests_toolbelt-1.0.0-py2.py3-none-any.whl.metadata (14 kB)\n",
      "Collecting zstandard<0.24.0,>=0.23.0 (from langsmith>=0.3.45->langchain-core>=0.1->langgraph)\n",
      "  Using cached zstandard-0.23.0-cp311-cp311-win_amd64.whl.metadata (3.0 kB)\n",
      "Requirement already satisfied: annotated-types>=0.6.0 in c:\\users\\ranga\\appdata\\local\\programs\\python\\python311\\lib\\site-packages (from pydantic>=2.7.4->langgraph) (0.7.0)\n",
      "Requirement already satisfied: pydantic-core==2.27.1 in c:\\users\\ranga\\appdata\\local\\programs\\python\\python311\\lib\\site-packages (from pydantic>=2.7.4->langgraph) (2.27.1)\n",
      "Requirement already satisfied: charset-normalizer<4,>=2 in c:\\users\\ranga\\appdata\\local\\programs\\python\\python311\\lib\\site-packages (from requests<3,>=2->langsmith>=0.3.45->langchain-core>=0.1->langgraph) (3.3.2)\n",
      "Requirement already satisfied: urllib3<3,>=1.21.1 in c:\\users\\ranga\\appdata\\local\\programs\\python\\python311\\lib\\site-packages (from requests<3,>=2->langsmith>=0.3.45->langchain-core>=0.1->langgraph) (2.2.1)\n",
      "Using cached langgraph-0.4.8-py3-none-any.whl (152 kB)\n",
      "Using cached langchain_core-0.3.66-py3-none-any.whl (438 kB)\n",
      "Using cached jsonpatch-1.33-py2.py3-none-any.whl (12 kB)\n",
      "Using cached tenacity-9.1.2-py3-none-any.whl (28 kB)\n",
      "Using cached langgraph_checkpoint-2.1.0-py3-none-any.whl (43 kB)\n",
      "Using cached langgraph_prebuilt-0.2.2-py3-none-any.whl (23 kB)\n",
      "Using cached langgraph_sdk-0.1.70-py3-none-any.whl (49 kB)\n",
      "Using cached langsmith-0.4.1-py3-none-any.whl (364 kB)\n",
      "Using cached orjson-3.10.18-cp311-cp311-win_amd64.whl (134 kB)\n",
      "Using cached requests_toolbelt-1.0.0-py2.py3-none-any.whl (54 kB)\n",
      "Using cached zstandard-0.23.0-cp311-cp311-win_amd64.whl (495 kB)\n",
      "Using cached ormsgpack-1.10.0-cp311-cp311-win_amd64.whl (121 kB)\n",
      "Using cached xxhash-3.5.0-cp311-cp311-win_amd64.whl (30 kB)\n",
      "Installing collected packages: zstandard, xxhash, tenacity, ormsgpack, orjson, jsonpatch, requests-toolbelt, langsmith, langgraph-sdk, langchain-core, langgraph-checkpoint, langgraph-prebuilt, langgraph\n",
      "\n",
      "   ------ ---------------------------------  2/13 [tenacity]\n",
      "   ------------------ ---------------------  6/13 [requests-toolbelt]\n",
      "   ------------------ ---------------------  6/13 [requests-toolbelt]\n",
      "   --------------------- ------------------  7/13 [langsmith]\n",
      "   --------------------- ------------------  7/13 [langsmith]\n",
      "   --------------------- ------------------  7/13 [langsmith]\n",
      "   ------------------------ ---------------  8/13 [langgraph-sdk]\n",
      "   --------------------------- ------------  9/13 [langchain-core]\n",
      "   --------------------------- ------------  9/13 [langchain-core]\n",
      "   --------------------------- ------------  9/13 [langchain-core]\n",
      "   --------------------------- ------------  9/13 [langchain-core]\n",
      "   --------------------------- ------------  9/13 [langchain-core]\n",
      "   --------------------------- ------------  9/13 [langchain-core]\n",
      "   --------------------------- ------------  9/13 [langchain-core]\n",
      "   --------------------------- ------------  9/13 [langchain-core]\n",
      "   --------------------------- ------------  9/13 [langchain-core]\n",
      "   --------------------------- ------------  9/13 [langchain-core]\n",
      "   --------------------------- ------------  9/13 [langchain-core]\n",
      "   ------------------------------ --------- 10/13 [langgraph-checkpoint]\n",
      "   ------------------------------------ --- 12/13 [langgraph]\n",
      "   ------------------------------------ --- 12/13 [langgraph]\n",
      "   ------------------------------------ --- 12/13 [langgraph]\n",
      "   ---------------------------------------- 13/13 [langgraph]\n",
      "\n",
      "Successfully installed jsonpatch-1.33 langchain-core-0.3.66 langgraph-0.4.8 langgraph-checkpoint-2.1.0 langgraph-prebuilt-0.2.2 langgraph-sdk-0.1.70 langsmith-0.4.1 orjson-3.10.18 ormsgpack-1.10.0 requests-toolbelt-1.0.0 tenacity-9.1.2 xxhash-3.5.0 zstandard-0.23.0\n"
     ]
    }
   ],
   "source": [
    "!pip install langgraph"
   ]
  },
  {
   "cell_type": "markdown",
   "id": "6637a69c",
   "metadata": {},
   "source": [
    "basic chatbot using langgraph(GRAPH AI{})"
   ]
  },
  {
   "cell_type": "code",
   "execution_count": 1,
   "id": "1070c59c",
   "metadata": {},
   "outputs": [],
   "source": [
    "from typing import Annotated\n",
    "\n",
    "from typing_extensions import TypedDict\n",
    "\n",
    "\n",
    "from langgraph.graph import StateGraph,START,END\n",
    "from langgraph.graph.message import add_messages #(its a reducer)adds into states list"
   ]
  },
  {
   "cell_type": "code",
   "execution_count": 2,
   "id": "d59c3ae3",
   "metadata": {},
   "outputs": [],
   "source": [
    "class State(TypedDict):\n",
    "    # Messages have the type \"list\". The `add_messages` function\n",
    "    # in the annotation defines how this state key should be updated\n",
    "    # (in this case, it appends messages to the list, rather than overwriting them)\n",
    "    messages:Annotated[list,add_messages]\n",
    "\n",
    "graphbuilder=StateGraph(State)\n"
   ]
  },
  {
   "cell_type": "code",
   "execution_count": 6,
   "id": "636dfb0a",
   "metadata": {},
   "outputs": [
    {
     "data": {
      "text/plain": [
       "<langgraph.graph.state.StateGraph at 0x25e721ba590>"
      ]
     },
     "execution_count": 6,
     "metadata": {},
     "output_type": "execute_result"
    }
   ],
   "source": [
    "graphbuilder"
   ]
  },
  {
   "cell_type": "code",
   "execution_count": 7,
   "id": "b0e1ce08",
   "metadata": {},
   "outputs": [
    {
     "name": "stdout",
     "output_type": "stream",
     "text": [
      "Requirement already satisfied: python-dotenv in c:\\users\\ranga\\appdata\\local\\programs\\python\\python311\\lib\\site-packages (1.0.0)\n"
     ]
    }
   ],
   "source": [
    "!pip install python-dotenv\n"
   ]
  },
  {
   "cell_type": "code",
   "execution_count": 3,
   "id": "ea684117",
   "metadata": {},
   "outputs": [
    {
     "data": {
      "text/plain": [
       "True"
      ]
     },
     "execution_count": 3,
     "metadata": {},
     "output_type": "execute_result"
    }
   ],
   "source": [
    "import os\n",
    "from dotenv import load_dotenv\n",
    "load_dotenv()"
   ]
  },
  {
   "cell_type": "code",
   "execution_count": 7,
   "id": "11f7e15b",
   "metadata": {},
   "outputs": [
    {
     "name": "stdout",
     "output_type": "stream",
     "text": [
      "Collecting langchain_groq\n",
      "  Downloading langchain_groq-0.3.2-py3-none-any.whl.metadata (2.6 kB)\n",
      "Requirement already satisfied: langchain-core<1.0.0,>=0.3.49 in c:\\users\\ranga\\appdata\\local\\programs\\python\\python311\\lib\\site-packages (from langchain_groq) (0.3.66)\n",
      "Collecting groq<1,>=0.4.1 (from langchain_groq)\n",
      "  Downloading groq-0.28.0-py3-none-any.whl.metadata (15 kB)\n",
      "Requirement already satisfied: anyio<5,>=3.5.0 in c:\\users\\ranga\\appdata\\local\\programs\\python\\python311\\lib\\site-packages (from groq<1,>=0.4.1->langchain_groq) (4.4.0)\n",
      "Requirement already satisfied: distro<2,>=1.7.0 in c:\\users\\ranga\\appdata\\local\\programs\\python\\python311\\lib\\site-packages (from groq<1,>=0.4.1->langchain_groq) (1.9.0)\n",
      "Requirement already satisfied: httpx<1,>=0.23.0 in c:\\users\\ranga\\appdata\\local\\programs\\python\\python311\\lib\\site-packages (from groq<1,>=0.4.1->langchain_groq) (0.27.0)\n",
      "Requirement already satisfied: pydantic<3,>=1.9.0 in c:\\users\\ranga\\appdata\\local\\programs\\python\\python311\\lib\\site-packages (from groq<1,>=0.4.1->langchain_groq) (2.10.2)\n",
      "Requirement already satisfied: sniffio in c:\\users\\ranga\\appdata\\local\\programs\\python\\python311\\lib\\site-packages (from groq<1,>=0.4.1->langchain_groq) (1.3.1)\n",
      "Requirement already satisfied: typing-extensions<5,>=4.10 in c:\\users\\ranga\\appdata\\local\\programs\\python\\python311\\lib\\site-packages (from groq<1,>=0.4.1->langchain_groq) (4.12.2)\n",
      "Requirement already satisfied: idna>=2.8 in c:\\users\\ranga\\appdata\\local\\programs\\python\\python311\\lib\\site-packages (from anyio<5,>=3.5.0->groq<1,>=0.4.1->langchain_groq) (3.7)\n",
      "Requirement already satisfied: certifi in c:\\users\\ranga\\appdata\\local\\programs\\python\\python311\\lib\\site-packages (from httpx<1,>=0.23.0->groq<1,>=0.4.1->langchain_groq) (2024.2.2)\n",
      "Requirement already satisfied: httpcore==1.* in c:\\users\\ranga\\appdata\\local\\programs\\python\\python311\\lib\\site-packages (from httpx<1,>=0.23.0->groq<1,>=0.4.1->langchain_groq) (1.0.5)\n",
      "Requirement already satisfied: h11<0.15,>=0.13 in c:\\users\\ranga\\appdata\\local\\programs\\python\\python311\\lib\\site-packages (from httpcore==1.*->httpx<1,>=0.23.0->groq<1,>=0.4.1->langchain_groq) (0.14.0)\n",
      "Requirement already satisfied: langsmith>=0.3.45 in c:\\users\\ranga\\appdata\\local\\programs\\python\\python311\\lib\\site-packages (from langchain-core<1.0.0,>=0.3.49->langchain_groq) (0.4.1)\n",
      "Requirement already satisfied: tenacity!=8.4.0,<10.0.0,>=8.1.0 in c:\\users\\ranga\\appdata\\local\\programs\\python\\python311\\lib\\site-packages (from langchain-core<1.0.0,>=0.3.49->langchain_groq) (9.1.2)\n",
      "Requirement already satisfied: jsonpatch<2.0,>=1.33 in c:\\users\\ranga\\appdata\\local\\programs\\python\\python311\\lib\\site-packages (from langchain-core<1.0.0,>=0.3.49->langchain_groq) (1.33)\n",
      "Requirement already satisfied: PyYAML>=5.3 in c:\\users\\ranga\\appdata\\local\\programs\\python\\python311\\lib\\site-packages (from langchain-core<1.0.0,>=0.3.49->langchain_groq) (6.0.1)\n",
      "Requirement already satisfied: packaging<25,>=23.2 in c:\\users\\ranga\\appdata\\local\\programs\\python\\python311\\lib\\site-packages (from langchain-core<1.0.0,>=0.3.49->langchain_groq) (24.0)\n",
      "Requirement already satisfied: jsonpointer>=1.9 in c:\\users\\ranga\\appdata\\local\\programs\\python\\python311\\lib\\site-packages (from jsonpatch<2.0,>=1.33->langchain-core<1.0.0,>=0.3.49->langchain_groq) (2.4)\n",
      "Requirement already satisfied: annotated-types>=0.6.0 in c:\\users\\ranga\\appdata\\local\\programs\\python\\python311\\lib\\site-packages (from pydantic<3,>=1.9.0->groq<1,>=0.4.1->langchain_groq) (0.7.0)\n",
      "Requirement already satisfied: pydantic-core==2.27.1 in c:\\users\\ranga\\appdata\\local\\programs\\python\\python311\\lib\\site-packages (from pydantic<3,>=1.9.0->groq<1,>=0.4.1->langchain_groq) (2.27.1)\n",
      "Requirement already satisfied: orjson<4.0.0,>=3.9.14 in c:\\users\\ranga\\appdata\\local\\programs\\python\\python311\\lib\\site-packages (from langsmith>=0.3.45->langchain-core<1.0.0,>=0.3.49->langchain_groq) (3.10.18)\n",
      "Requirement already satisfied: requests<3,>=2 in c:\\users\\ranga\\appdata\\local\\programs\\python\\python311\\lib\\site-packages (from langsmith>=0.3.45->langchain-core<1.0.0,>=0.3.49->langchain_groq) (2.31.0)\n",
      "Requirement already satisfied: requests-toolbelt<2.0.0,>=1.0.0 in c:\\users\\ranga\\appdata\\local\\programs\\python\\python311\\lib\\site-packages (from langsmith>=0.3.45->langchain-core<1.0.0,>=0.3.49->langchain_groq) (1.0.0)\n",
      "Requirement already satisfied: zstandard<0.24.0,>=0.23.0 in c:\\users\\ranga\\appdata\\local\\programs\\python\\python311\\lib\\site-packages (from langsmith>=0.3.45->langchain-core<1.0.0,>=0.3.49->langchain_groq) (0.23.0)\n",
      "Requirement already satisfied: charset-normalizer<4,>=2 in c:\\users\\ranga\\appdata\\local\\programs\\python\\python311\\lib\\site-packages (from requests<3,>=2->langsmith>=0.3.45->langchain-core<1.0.0,>=0.3.49->langchain_groq) (3.3.2)\n",
      "Requirement already satisfied: urllib3<3,>=1.21.1 in c:\\users\\ranga\\appdata\\local\\programs\\python\\python311\\lib\\site-packages (from requests<3,>=2->langsmith>=0.3.45->langchain-core<1.0.0,>=0.3.49->langchain_groq) (2.2.1)\n",
      "Downloading langchain_groq-0.3.2-py3-none-any.whl (15 kB)\n",
      "Downloading groq-0.28.0-py3-none-any.whl (130 kB)\n",
      "Installing collected packages: groq, langchain_groq\n",
      "\n",
      "   ---------------------------------------- 0/2 [groq]\n",
      "   ---------------------------------------- 0/2 [groq]\n",
      "   ---------------------------------------- 0/2 [groq]\n",
      "   ---------------------------------------- 0/2 [groq]\n",
      "   ---------------------------------------- 0/2 [groq]\n",
      "   ---------------------------------------- 0/2 [groq]\n",
      "   ---------------------------------------- 0/2 [groq]\n",
      "   ---------------------------------------- 0/2 [groq]\n",
      "   ---------------------------------------- 0/2 [groq]\n",
      "   ---------------------------------------- 0/2 [groq]\n",
      "   ---------------------------------------- 0/2 [groq]\n",
      "   ---------------------------------------- 0/2 [groq]\n",
      "   ---------------------------------------- 0/2 [groq]\n",
      "   ---------------------------------------- 0/2 [groq]\n",
      "   -------------------- ------------------- 1/2 [langchain_groq]\n",
      "   ---------------------------------------- 2/2 [langchain_groq]\n",
      "\n",
      "Successfully installed groq-0.28.0 langchain_groq-0.3.2\n"
     ]
    }
   ],
   "source": [
    "!pip install langchain_groq"
   ]
  },
  {
   "cell_type": "code",
   "execution_count": 9,
   "id": "2f206eeb",
   "metadata": {},
   "outputs": [
    {
     "name": "stdout",
     "output_type": "stream",
     "text": [
      "Collecting langchain\n",
      "  Using cached langchain-0.3.26-py3-none-any.whl.metadata (7.8 kB)\n",
      "Requirement already satisfied: langchain-core<1.0.0,>=0.3.66 in c:\\users\\ranga\\appdata\\local\\programs\\python\\python311\\lib\\site-packages (from langchain) (0.3.66)\n",
      "Collecting langchain-text-splitters<1.0.0,>=0.3.8 (from langchain)\n",
      "  Using cached langchain_text_splitters-0.3.8-py3-none-any.whl.metadata (1.9 kB)\n",
      "Requirement already satisfied: langsmith>=0.1.17 in c:\\users\\ranga\\appdata\\local\\programs\\python\\python311\\lib\\site-packages (from langchain) (0.4.1)\n",
      "Requirement already satisfied: pydantic<3.0.0,>=2.7.4 in c:\\users\\ranga\\appdata\\local\\programs\\python\\python311\\lib\\site-packages (from langchain) (2.10.2)\n",
      "Collecting SQLAlchemy<3,>=1.4 (from langchain)\n",
      "  Using cached sqlalchemy-2.0.41-cp311-cp311-win_amd64.whl.metadata (9.8 kB)\n",
      "Requirement already satisfied: requests<3,>=2 in c:\\users\\ranga\\appdata\\local\\programs\\python\\python311\\lib\\site-packages (from langchain) (2.31.0)\n",
      "Requirement already satisfied: PyYAML>=5.3 in c:\\users\\ranga\\appdata\\local\\programs\\python\\python311\\lib\\site-packages (from langchain) (6.0.1)\n",
      "Requirement already satisfied: tenacity!=8.4.0,<10.0.0,>=8.1.0 in c:\\users\\ranga\\appdata\\local\\programs\\python\\python311\\lib\\site-packages (from langchain-core<1.0.0,>=0.3.66->langchain) (9.1.2)\n",
      "Requirement already satisfied: jsonpatch<2.0,>=1.33 in c:\\users\\ranga\\appdata\\local\\programs\\python\\python311\\lib\\site-packages (from langchain-core<1.0.0,>=0.3.66->langchain) (1.33)\n",
      "Requirement already satisfied: packaging<25,>=23.2 in c:\\users\\ranga\\appdata\\local\\programs\\python\\python311\\lib\\site-packages (from langchain-core<1.0.0,>=0.3.66->langchain) (24.0)\n",
      "Requirement already satisfied: typing-extensions>=4.7 in c:\\users\\ranga\\appdata\\local\\programs\\python\\python311\\lib\\site-packages (from langchain-core<1.0.0,>=0.3.66->langchain) (4.12.2)\n",
      "Requirement already satisfied: jsonpointer>=1.9 in c:\\users\\ranga\\appdata\\local\\programs\\python\\python311\\lib\\site-packages (from jsonpatch<2.0,>=1.33->langchain-core<1.0.0,>=0.3.66->langchain) (2.4)\n",
      "Requirement already satisfied: annotated-types>=0.6.0 in c:\\users\\ranga\\appdata\\local\\programs\\python\\python311\\lib\\site-packages (from pydantic<3.0.0,>=2.7.4->langchain) (0.7.0)\n",
      "Requirement already satisfied: pydantic-core==2.27.1 in c:\\users\\ranga\\appdata\\local\\programs\\python\\python311\\lib\\site-packages (from pydantic<3.0.0,>=2.7.4->langchain) (2.27.1)\n",
      "Requirement already satisfied: charset-normalizer<4,>=2 in c:\\users\\ranga\\appdata\\local\\programs\\python\\python311\\lib\\site-packages (from requests<3,>=2->langchain) (3.3.2)\n",
      "Requirement already satisfied: idna<4,>=2.5 in c:\\users\\ranga\\appdata\\local\\programs\\python\\python311\\lib\\site-packages (from requests<3,>=2->langchain) (3.7)\n",
      "Requirement already satisfied: urllib3<3,>=1.21.1 in c:\\users\\ranga\\appdata\\local\\programs\\python\\python311\\lib\\site-packages (from requests<3,>=2->langchain) (2.2.1)\n",
      "Requirement already satisfied: certifi>=2017.4.17 in c:\\users\\ranga\\appdata\\local\\programs\\python\\python311\\lib\\site-packages (from requests<3,>=2->langchain) (2024.2.2)\n",
      "Collecting greenlet>=1 (from SQLAlchemy<3,>=1.4->langchain)\n",
      "  Using cached greenlet-3.2.3-cp311-cp311-win_amd64.whl.metadata (4.2 kB)\n",
      "Requirement already satisfied: httpx<1,>=0.23.0 in c:\\users\\ranga\\appdata\\local\\programs\\python\\python311\\lib\\site-packages (from langsmith>=0.1.17->langchain) (0.27.0)\n",
      "Requirement already satisfied: orjson<4.0.0,>=3.9.14 in c:\\users\\ranga\\appdata\\local\\programs\\python\\python311\\lib\\site-packages (from langsmith>=0.1.17->langchain) (3.10.18)\n",
      "Requirement already satisfied: requests-toolbelt<2.0.0,>=1.0.0 in c:\\users\\ranga\\appdata\\local\\programs\\python\\python311\\lib\\site-packages (from langsmith>=0.1.17->langchain) (1.0.0)\n",
      "Requirement already satisfied: zstandard<0.24.0,>=0.23.0 in c:\\users\\ranga\\appdata\\local\\programs\\python\\python311\\lib\\site-packages (from langsmith>=0.1.17->langchain) (0.23.0)\n",
      "Requirement already satisfied: anyio in c:\\users\\ranga\\appdata\\local\\programs\\python\\python311\\lib\\site-packages (from httpx<1,>=0.23.0->langsmith>=0.1.17->langchain) (4.4.0)\n",
      "Requirement already satisfied: httpcore==1.* in c:\\users\\ranga\\appdata\\local\\programs\\python\\python311\\lib\\site-packages (from httpx<1,>=0.23.0->langsmith>=0.1.17->langchain) (1.0.5)\n",
      "Requirement already satisfied: sniffio in c:\\users\\ranga\\appdata\\local\\programs\\python\\python311\\lib\\site-packages (from httpx<1,>=0.23.0->langsmith>=0.1.17->langchain) (1.3.1)\n",
      "Requirement already satisfied: h11<0.15,>=0.13 in c:\\users\\ranga\\appdata\\local\\programs\\python\\python311\\lib\\site-packages (from httpcore==1.*->httpx<1,>=0.23.0->langsmith>=0.1.17->langchain) (0.14.0)\n",
      "Using cached langchain-0.3.26-py3-none-any.whl (1.0 MB)\n",
      "Using cached langchain_text_splitters-0.3.8-py3-none-any.whl (32 kB)\n",
      "Using cached sqlalchemy-2.0.41-cp311-cp311-win_amd64.whl (2.1 MB)\n",
      "Using cached greenlet-3.2.3-cp311-cp311-win_amd64.whl (297 kB)\n",
      "Installing collected packages: greenlet, SQLAlchemy, langchain-text-splitters, langchain\n",
      "\n",
      "   ---------------------------------------- 0/4 [greenlet]\n",
      "   ---------------------------------------- 0/4 [greenlet]\n",
      "   ---------------------------------------- 0/4 [greenlet]\n",
      "   ---------- ----------------------------- 1/4 [SQLAlchemy]\n",
      "   ---------- ----------------------------- 1/4 [SQLAlchemy]\n",
      "   ---------- ----------------------------- 1/4 [SQLAlchemy]\n",
      "   ---------- ----------------------------- 1/4 [SQLAlchemy]\n",
      "   ---------- ----------------------------- 1/4 [SQLAlchemy]\n",
      "   ---------- ----------------------------- 1/4 [SQLAlchemy]\n",
      "   ---------- ----------------------------- 1/4 [SQLAlchemy]\n",
      "   ---------- ----------------------------- 1/4 [SQLAlchemy]\n",
      "   ---------- ----------------------------- 1/4 [SQLAlchemy]\n",
      "   ---------- ----------------------------- 1/4 [SQLAlchemy]\n",
      "   ---------- ----------------------------- 1/4 [SQLAlchemy]\n",
      "   ---------- ----------------------------- 1/4 [SQLAlchemy]\n",
      "   ---------- ----------------------------- 1/4 [SQLAlchemy]\n",
      "   ---------- ----------------------------- 1/4 [SQLAlchemy]\n",
      "   ---------- ----------------------------- 1/4 [SQLAlchemy]\n",
      "   ---------- ----------------------------- 1/4 [SQLAlchemy]\n",
      "   ---------- ----------------------------- 1/4 [SQLAlchemy]\n",
      "   ---------- ----------------------------- 1/4 [SQLAlchemy]\n",
      "   ---------- ----------------------------- 1/4 [SQLAlchemy]\n",
      "   ---------- ----------------------------- 1/4 [SQLAlchemy]\n",
      "   ---------- ----------------------------- 1/4 [SQLAlchemy]\n",
      "   ---------- ----------------------------- 1/4 [SQLAlchemy]\n",
      "   ---------- ----------------------------- 1/4 [SQLAlchemy]\n",
      "   ---------- ----------------------------- 1/4 [SQLAlchemy]\n",
      "   ---------- ----------------------------- 1/4 [SQLAlchemy]\n",
      "   ---------- ----------------------------- 1/4 [SQLAlchemy]\n",
      "   ---------- ----------------------------- 1/4 [SQLAlchemy]\n",
      "   ---------- ----------------------------- 1/4 [SQLAlchemy]\n",
      "   ---------- ----------------------------- 1/4 [SQLAlchemy]\n",
      "   ---------- ----------------------------- 1/4 [SQLAlchemy]\n",
      "   ---------- ----------------------------- 1/4 [SQLAlchemy]\n",
      "   ---------- ----------------------------- 1/4 [SQLAlchemy]\n",
      "   ---------- ----------------------------- 1/4 [SQLAlchemy]\n",
      "   ---------- ----------------------------- 1/4 [SQLAlchemy]\n",
      "   ---------- ----------------------------- 1/4 [SQLAlchemy]\n",
      "   ---------- ----------------------------- 1/4 [SQLAlchemy]\n",
      "   ---------- ----------------------------- 1/4 [SQLAlchemy]\n",
      "   ---------- ----------------------------- 1/4 [SQLAlchemy]\n",
      "   ---------- ----------------------------- 1/4 [SQLAlchemy]\n",
      "   ---------- ----------------------------- 1/4 [SQLAlchemy]\n",
      "   ---------- ----------------------------- 1/4 [SQLAlchemy]\n",
      "   ---------- ----------------------------- 1/4 [SQLAlchemy]\n",
      "   ---------- ----------------------------- 1/4 [SQLAlchemy]\n",
      "   ---------- ----------------------------- 1/4 [SQLAlchemy]\n",
      "   ---------- ----------------------------- 1/4 [SQLAlchemy]\n",
      "   ---------- ----------------------------- 1/4 [SQLAlchemy]\n",
      "   ---------- ----------------------------- 1/4 [SQLAlchemy]\n",
      "   ---------- ----------------------------- 1/4 [SQLAlchemy]\n",
      "   ---------- ----------------------------- 1/4 [SQLAlchemy]\n",
      "   ---------- ----------------------------- 1/4 [SQLAlchemy]\n",
      "   ---------- ----------------------------- 1/4 [SQLAlchemy]\n",
      "   ---------- ----------------------------- 1/4 [SQLAlchemy]\n",
      "   ---------- ----------------------------- 1/4 [SQLAlchemy]\n",
      "   ---------- ----------------------------- 1/4 [SQLAlchemy]\n",
      "   ---------- ----------------------------- 1/4 [SQLAlchemy]\n",
      "   ---------- ----------------------------- 1/4 [SQLAlchemy]\n",
      "   ---------- ----------------------------- 1/4 [SQLAlchemy]\n",
      "   -------------------- ------------------- 2/4 [langchain-text-splitters]\n",
      "   -------------------- ------------------- 2/4 [langchain-text-splitters]\n",
      "   ------------------------------ --------- 3/4 [langchain]\n",
      "   ------------------------------ --------- 3/4 [langchain]\n",
      "   ------------------------------ --------- 3/4 [langchain]\n",
      "   ------------------------------ --------- 3/4 [langchain]\n",
      "   ------------------------------ --------- 3/4 [langchain]\n",
      "   ------------------------------ --------- 3/4 [langchain]\n",
      "   ------------------------------ --------- 3/4 [langchain]\n",
      "   ------------------------------ --------- 3/4 [langchain]\n",
      "   ------------------------------ --------- 3/4 [langchain]\n",
      "   ------------------------------ --------- 3/4 [langchain]\n",
      "   ------------------------------ --------- 3/4 [langchain]\n",
      "   ------------------------------ --------- 3/4 [langchain]\n",
      "   ------------------------------ --------- 3/4 [langchain]\n",
      "   ------------------------------ --------- 3/4 [langchain]\n",
      "   ------------------------------ --------- 3/4 [langchain]\n",
      "   ------------------------------ --------- 3/4 [langchain]\n",
      "   ------------------------------ --------- 3/4 [langchain]\n",
      "   ------------------------------ --------- 3/4 [langchain]\n",
      "   ------------------------------ --------- 3/4 [langchain]\n",
      "   ------------------------------ --------- 3/4 [langchain]\n",
      "   ------------------------------ --------- 3/4 [langchain]\n",
      "   ------------------------------ --------- 3/4 [langchain]\n",
      "   ------------------------------ --------- 3/4 [langchain]\n",
      "   ------------------------------ --------- 3/4 [langchain]\n",
      "   ------------------------------ --------- 3/4 [langchain]\n",
      "   ------------------------------ --------- 3/4 [langchain]\n",
      "   ------------------------------ --------- 3/4 [langchain]\n",
      "   ------------------------------ --------- 3/4 [langchain]\n",
      "   ------------------------------ --------- 3/4 [langchain]\n",
      "   ------------------------------ --------- 3/4 [langchain]\n",
      "   ------------------------------ --------- 3/4 [langchain]\n",
      "   ------------------------------ --------- 3/4 [langchain]\n",
      "   ------------------------------ --------- 3/4 [langchain]\n",
      "   ------------------------------ --------- 3/4 [langchain]\n",
      "   ------------------------------ --------- 3/4 [langchain]\n",
      "   ------------------------------ --------- 3/4 [langchain]\n",
      "   ------------------------------ --------- 3/4 [langchain]\n",
      "   ------------------------------ --------- 3/4 [langchain]\n",
      "   ------------------------------ --------- 3/4 [langchain]\n",
      "   ------------------------------ --------- 3/4 [langchain]\n",
      "   ------------------------------ --------- 3/4 [langchain]\n",
      "   ------------------------------ --------- 3/4 [langchain]\n",
      "   ------------------------------ --------- 3/4 [langchain]\n",
      "   ------------------------------ --------- 3/4 [langchain]\n",
      "   ------------------------------ --------- 3/4 [langchain]\n",
      "   ------------------------------ --------- 3/4 [langchain]\n",
      "   ------------------------------ --------- 3/4 [langchain]\n",
      "   ------------------------------ --------- 3/4 [langchain]\n",
      "   ------------------------------ --------- 3/4 [langchain]\n",
      "   ------------------------------ --------- 3/4 [langchain]\n",
      "   ------------------------------ --------- 3/4 [langchain]\n",
      "   ------------------------------ --------- 3/4 [langchain]\n",
      "   ------------------------------ --------- 3/4 [langchain]\n",
      "   ------------------------------ --------- 3/4 [langchain]\n",
      "   ------------------------------ --------- 3/4 [langchain]\n",
      "   ------------------------------ --------- 3/4 [langchain]\n",
      "   ------------------------------ --------- 3/4 [langchain]\n",
      "   ------------------------------ --------- 3/4 [langchain]\n",
      "   ------------------------------ --------- 3/4 [langchain]\n",
      "   ------------------------------ --------- 3/4 [langchain]\n",
      "   ------------------------------ --------- 3/4 [langchain]\n",
      "   ------------------------------ --------- 3/4 [langchain]\n",
      "   ------------------------------ --------- 3/4 [langchain]\n",
      "   ------------------------------ --------- 3/4 [langchain]\n",
      "   ------------------------------ --------- 3/4 [langchain]\n",
      "   ------------------------------ --------- 3/4 [langchain]\n",
      "   ------------------------------ --------- 3/4 [langchain]\n",
      "   ------------------------------ --------- 3/4 [langchain]\n",
      "   ------------------------------ --------- 3/4 [langchain]\n",
      "   ------------------------------ --------- 3/4 [langchain]\n",
      "   ------------------------------ --------- 3/4 [langchain]\n",
      "   ------------------------------ --------- 3/4 [langchain]\n",
      "   ------------------------------ --------- 3/4 [langchain]\n",
      "   ------------------------------ --------- 3/4 [langchain]\n",
      "   ------------------------------ --------- 3/4 [langchain]\n",
      "   ------------------------------ --------- 3/4 [langchain]\n",
      "   ------------------------------ --------- 3/4 [langchain]\n",
      "   ------------------------------ --------- 3/4 [langchain]\n",
      "   ------------------------------ --------- 3/4 [langchain]\n",
      "   ------------------------------ --------- 3/4 [langchain]\n",
      "   ------------------------------ --------- 3/4 [langchain]\n",
      "   ------------------------------ --------- 3/4 [langchain]\n",
      "   ------------------------------ --------- 3/4 [langchain]\n",
      "   ------------------------------ --------- 3/4 [langchain]\n",
      "   ------------------------------ --------- 3/4 [langchain]\n",
      "   ------------------------------ --------- 3/4 [langchain]\n",
      "   ------------------------------ --------- 3/4 [langchain]\n",
      "   ------------------------------ --------- 3/4 [langchain]\n",
      "   ------------------------------ --------- 3/4 [langchain]\n",
      "   ------------------------------ --------- 3/4 [langchain]\n",
      "   ------------------------------ --------- 3/4 [langchain]\n",
      "   ------------------------------ --------- 3/4 [langchain]\n",
      "   ------------------------------ --------- 3/4 [langchain]\n",
      "   ------------------------------ --------- 3/4 [langchain]\n",
      "   ------------------------------ --------- 3/4 [langchain]\n",
      "   ------------------------------ --------- 3/4 [langchain]\n",
      "   ------------------------------ --------- 3/4 [langchain]\n",
      "   ------------------------------ --------- 3/4 [langchain]\n",
      "   ------------------------------ --------- 3/4 [langchain]\n",
      "   ------------------------------ --------- 3/4 [langchain]\n",
      "   ------------------------------ --------- 3/4 [langchain]\n",
      "   ------------------------------ --------- 3/4 [langchain]\n",
      "   ------------------------------ --------- 3/4 [langchain]\n",
      "   ------------------------------ --------- 3/4 [langchain]\n",
      "   ------------------------------ --------- 3/4 [langchain]\n",
      "   ------------------------------ --------- 3/4 [langchain]\n",
      "   ------------------------------ --------- 3/4 [langchain]\n",
      "   ------------------------------ --------- 3/4 [langchain]\n",
      "   ------------------------------ --------- 3/4 [langchain]\n",
      "   ------------------------------ --------- 3/4 [langchain]\n",
      "   ------------------------------ --------- 3/4 [langchain]\n",
      "   ------------------------------ --------- 3/4 [langchain]\n",
      "   ------------------------------ --------- 3/4 [langchain]\n",
      "   ------------------------------ --------- 3/4 [langchain]\n",
      "   ------------------------------ --------- 3/4 [langchain]\n",
      "   ------------------------------ --------- 3/4 [langchain]\n",
      "   ------------------------------ --------- 3/4 [langchain]\n",
      "   ------------------------------ --------- 3/4 [langchain]\n",
      "   ---------------------------------------- 4/4 [langchain]\n",
      "\n",
      "Successfully installed SQLAlchemy-2.0.41 greenlet-3.2.3 langchain-0.3.26 langchain-text-splitters-0.3.8\n"
     ]
    }
   ],
   "source": [
    "!pip install langchain"
   ]
  },
  {
   "cell_type": "code",
   "execution_count": 4,
   "id": "44897322",
   "metadata": {},
   "outputs": [],
   "source": [
    "from langchain_groq import ChatGroq\n",
    "from langchain.chat_models import init_chat_model\n",
    "\n",
    "llm=ChatGroq(model=\"llama3-8b-8192\")"
   ]
  },
  {
   "cell_type": "code",
   "execution_count": 10,
   "id": "ddf5fdf1",
   "metadata": {},
   "outputs": [
    {
     "data": {
      "text/plain": [
       "ChatGroq(client=<groq.resources.chat.completions.Completions object at 0x0000025E72016E50>, async_client=<groq.resources.chat.completions.AsyncCompletions object at 0x0000025E721D1850>, model_name='llama3-8b-8192', model_kwargs={}, groq_api_key=SecretStr('**********'))"
      ]
     },
     "execution_count": 10,
     "metadata": {},
     "output_type": "execute_result"
    }
   ],
   "source": [
    "llm"
   ]
  },
  {
   "cell_type": "markdown",
   "id": "3eed040b",
   "metadata": {},
   "source": [
    "***llm is ready...now we have to build chatbot node and start,end and the respective edges***\n"
   ]
  },
  {
   "cell_type": "code",
   "execution_count": 13,
   "id": "cabaa234",
   "metadata": {},
   "outputs": [],
   "source": [
    "## Node Functionality\n",
    "def chatbot(state:State):\n",
    "    return {\"messages\":[llm.invoke(state[\"messages\"])]}"
   ]
  },
  {
   "cell_type": "code",
   "execution_count": 14,
   "id": "56953694",
   "metadata": {},
   "outputs": [],
   "source": [
    "graph_builder=StateGraph(State)\n",
    "\n",
    "## Adding node\n",
    "graph_builder.add_node(\"llmchatbot\",chatbot)\n",
    "## Adding Edges\n",
    "graph_builder.add_edge(START,\"llmchatbot\")\n",
    "graph_builder.add_edge(\"llmchatbot\",END)\n",
    "\n",
    "## compile the graph\n",
    "graph=graph_builder.compile()"
   ]
  },
  {
   "cell_type": "code",
   "execution_count": 15,
   "id": "994cf2b5",
   "metadata": {},
   "outputs": [
    {
     "data": {
      "image/png": "[encoded data removed]",
      "text/plain": [
       "<IPython.core.display.Image object>"
      ]
     },
     "metadata": {},
     "output_type": "display_data"
    }
   ],
   "source": [
    "## Visualize the graph\n",
    "from IPython.display import Image,display\n",
    "\n",
    "try:\n",
    "    display(Image(graph.get_graph().draw_mermaid_png()))\n",
    "except Exception:\n",
    "    pass"
   ]
  },
  {
   "cell_type": "code",
   "execution_count": 16,
   "id": "82a3d7bf",
   "metadata": {},
   "outputs": [],
   "source": [
    "response=graph.invoke({\"messages\":\"Hi\"})"
   ]
  },
  {
   "cell_type": "code",
   "execution_count": 17,
   "id": "b79d10fe",
   "metadata": {},
   "outputs": [
    {
     "data": {
      "text/plain": [
       "{'messages': [HumanMessage(content='Hi', additional_kwargs={}, response_metadata={}, id='cc757084-83fe-4bee-8abe-b9103b9c2a31'),\n",
       "  AIMessage(content=\"Hi! It's nice to meet you. Is there something I can help you with or would you like to chat?\", additional_kwargs={}, response_metadata={'token_usage': {'completion_tokens': 25, 'prompt_tokens': 11, 'total_tokens': 36, 'completion_time': 0.026861817, 'prompt_time': 0.002622101, 'queue_time': 0.274707979, 'total_time': 0.029483918}, 'model_name': 'llama3-8b-8192', 'system_fingerprint': 'fp_8b7c3a83f7', 'finish_reason': 'stop', 'logprobs': None}, id='run--c087e88d-7dab-45c2-911c-89c1fba35929-0', usage_metadata={'input_tokens': 11, 'output_tokens': 25, 'total_tokens': 36})]}"
      ]
     },
     "execution_count": 17,
     "metadata": {},
     "output_type": "execute_result"
    }
   ],
   "source": [
    "response"
   ]
  },
  {
   "cell_type": "code",
   "execution_count": null,
   "id": "ec009c95",
   "metadata": {},
   "outputs": [],
   "source": []
  },
  {
   "cell_type": "code",
   "execution_count": 19,
   "id": "c4d13f1d",
   "metadata": {},
   "outputs": [
    {
     "data": {
      "text/plain": [
       "\"Hi! It's nice to meet you. Is there something I can help you with or would you like to chat?\""
      ]
     },
     "execution_count": 19,
     "metadata": {},
     "output_type": "execute_result"
    }
   ],
   "source": [
    "response[\"messages\"][-1].content"
   ]
  },
  {
   "cell_type": "code",
   "execution_count": null,
   "id": "8b93dfb4",
   "metadata": {},
   "outputs": [
    {
     "data": {
      "text/plain": [
       "<generator object Pregel.stream at 0x0000026C54D4ED40>"
      ]
     },
     "execution_count": 25,
     "metadata": {},
     "output_type": "execute_result"
    }
   ],
   "source": [
    "res=graph.stream({\"messages\":\"where is hyd?\"})\n",
    "res #iterable"
   ]
  },
  {
   "cell_type": "code",
   "execution_count": 36,
   "id": "78d0ce5b",
   "metadata": {},
   "outputs": [
    {
     "name": "stdout",
     "output_type": "stream",
     "text": [
      "Here are some recent AI news updates for 2025:\n",
      "\n",
      "**January 2025**\n",
      "\n",
      "* **Google's AI-powered Chatbot, LaMDA, Gets Human-like Conversational Skills**: Google announces that its LaMDA (Large Language Model Dialogue Application) chatbot has achieved human-like conversational abilities, allowing it to engage in coherent and context-dependent conversations with users. (Source: The Verge)\n",
      "* **Meta Unveils AI-Powered Virtual Assistant for Smart Homes**: Meta announces the release of its AI-powered virtual assistant, called \"Echo,\" designed to control and manage smart home devices, allowing users to automate tasks and receive personalized recommendations. (Source: CNET)\n",
      "\n",
      "**February 2025**\n",
      "\n",
      "* **Facebook's AI-Powered Facial Recognition System Accurately Identifies Faces**: Researchers at Facebook announce that their AI-powered facial recognition system, called \"DeepFace,\" has achieved an accuracy rate of 99.7% in identifying faces, surpassing human-level performance. (Source: TechCrunch)\n",
      "* **Microsoft Unveils AI-Powered Customer Service Chatbot**: Microsoft announces the release of its AI-powered customer service chatbot, called \"Cerebot,\" designed to help companies provide personalized customer support and resolve issues more efficiently. (Source: ZDNet)\n",
      "\n",
      "**March 2025**\n",
      "\n",
      "* **AI-Powered Music Composition Tool Generates Hit Songs**: Researchers at Stanford University announce the development of an AI-powered music composition tool, called \"Amper Music,\" that can generate hit songs in minutes, using a combination of machine learning algorithms and human input. (Source: Wired)\n",
      "* **IBM Unveils AI-Powered Cybersecurity Solution**: IBM announces the release of its AI-powered cybersecurity solution, called \"AI-powered X-Force,\" designed to detect and prevent cyberattacks more effectively, using machine learning and natural language processing. (Source: IBM News)\n",
      "\n",
      "**April 2025**\n",
      "\n",
      "* **Amazon Unveils AI-Powered Personal Shopping Assistant**: Amazon announces the release of its AI-powered personal shopping assistant, called \"Style,\" designed to help customers find and purchase clothing and accessories based on their personal style and preferences. (Source: The Verge)\n",
      "* **Intel Unveils AI-Powered Autonomous Vehicle Technology**: Intel announces the release of its AI-powered autonomous vehicle technology, called \"Intel AutoPilot,\" designed to enable self-driving cars to navigate complex environments and make decisions in real-time. (Source: Intel News)\n",
      "\n",
      "**May 2025**\n",
      "\n",
      "* **Google's AI-Powered Language Translation Tool Translates 100 Languages**: Google announces that its AI-powered language translation tool, called \"Google Translate,\" can now translate over 100 languages, including many lesser-known languages, with high accuracy. (Source: Google Blog)\n",
      "* **AI-Powered Healthcare Platform Helps Diagnose Rare Diseases**: Researchers at the University of California, San Francisco, announce the development of an AI-powered healthcare platform, called \"RareGen,\" designed to help diagnose rare diseases and improve patient outcomes. (Source: Science Magazine)\n",
      "\n",
      "**June 2025**\n",
      "\n",
      "* **Facebook's AI-Powered Disinformation Detection System Identifies Fake News**: Facebook announces the release of its AI-powered disinformation detection system, called \"FactsFirst,\" designed to identify and flag fake news stories and reduce the spread of misinformation online. (Source: Facebook Newsroom)\n",
      "* **Microsoft Unveils AI-Powered Virtual Event Platform**: Microsoft announces the release of its AI-powered virtual event platform, called \"Microsoft Events,\" designed to enable companies to host virtual events and conferences, with features such as virtual breakout rooms and AI-powered networking. (Source: Microsoft News)\n",
      "\n",
      "**July 2025**\n",
      "\n",
      "* **AI-Powered Chatbot Helps Patients Manage Chronic Conditions**: Researchers at the University of Illinois announce the development of an AI-powered chatbot, called \"HealthChat,\" designed to help patients with chronic conditions manage their health and communicate with healthcare providers more effectively. (Source: University of Illinois News)\n",
      "* **Google's AI-Powered Image Recognition System Identifies Objects in Real-Time**: Google announces that its AI-powered image recognition system, called \"Google Cloud Vision,\" can now identify objects in real-time, using a combination of machine learning algorithms and computer vision techniques. (Source: Google Cloud Blog)\n",
      "\n",
      "These are just a few examples of recent AI news updates for 2025. As AI technology continues to evolve and improve, we can expect to see even more innovative applications and breakthroughs in the field.\n"
     ]
    }
   ],
   "source": [
    "for event in graph.stream({\"messages\":\"provide recent ai news in 2025\"}):\n",
    "    \n",
    "    for value in event.values():\n",
    "        print(value[\"messages\"][0].content)"
   ]
  },
  {
   "cell_type": "markdown",
   "id": "55a291db",
   "metadata": {},
   "source": [
    "***chatbot with tools***"
   ]
  },
  {
   "cell_type": "code",
   "execution_count": 37,
   "id": "2f33a63b",
   "metadata": {},
   "outputs": [
    {
     "name": "stdout",
     "output_type": "stream",
     "text": [
      "Collecting langchain_tavily\n",
      "  Downloading langchain_tavily-0.2.3-py3-none-any.whl.metadata (21 kB)\n",
      "Collecting aiohttp<4.0.0,>=3.11.14 (from langchain_tavily)\n",
      "  Downloading aiohttp-3.12.13-cp311-cp311-win_amd64.whl.metadata (7.9 kB)\n",
      "Requirement already satisfied: langchain<0.4.0,>=0.3.20 in c:\\users\\ranga\\appdata\\local\\programs\\python\\python311\\lib\\site-packages (from langchain_tavily) (0.3.26)\n",
      "Requirement already satisfied: langchain-core<0.4.0,>=0.3.15 in c:\\users\\ranga\\appdata\\local\\programs\\python\\python311\\lib\\site-packages (from langchain_tavily) (0.3.66)\n",
      "Collecting mypy<2.0.0,>=1.15.0 (from langchain_tavily)\n",
      "  Downloading mypy-1.16.1-cp311-cp311-win_amd64.whl.metadata (2.2 kB)\n",
      "Collecting requests<3.0.0,>=2.32.3 (from langchain_tavily)\n",
      "  Using cached requests-2.32.4-py3-none-any.whl.metadata (4.9 kB)\n",
      "Collecting aiohappyeyeballs>=2.5.0 (from aiohttp<4.0.0,>=3.11.14->langchain_tavily)\n",
      "  Downloading aiohappyeyeballs-2.6.1-py3-none-any.whl.metadata (5.9 kB)\n",
      "Collecting aiosignal>=1.1.2 (from aiohttp<4.0.0,>=3.11.14->langchain_tavily)\n",
      "  Downloading aiosignal-1.3.2-py2.py3-none-any.whl.metadata (3.8 kB)\n",
      "Requirement already satisfied: attrs>=17.3.0 in c:\\users\\ranga\\appdata\\local\\programs\\python\\python311\\lib\\site-packages (from aiohttp<4.0.0,>=3.11.14->langchain_tavily) (23.2.0)\n",
      "Collecting frozenlist>=1.1.1 (from aiohttp<4.0.0,>=3.11.14->langchain_tavily)\n",
      "  Downloading frozenlist-1.7.0-cp311-cp311-win_amd64.whl.metadata (19 kB)\n",
      "Collecting multidict<7.0,>=4.5 (from aiohttp<4.0.0,>=3.11.14->langchain_tavily)\n",
      "  Downloading multidict-6.5.0-cp311-cp311-win_amd64.whl.metadata (5.5 kB)\n",
      "Collecting propcache>=0.2.0 (from aiohttp<4.0.0,>=3.11.14->langchain_tavily)\n",
      "  Downloading propcache-0.3.2-cp311-cp311-win_amd64.whl.metadata (12 kB)\n",
      "Collecting yarl<2.0,>=1.17.0 (from aiohttp<4.0.0,>=3.11.14->langchain_tavily)\n",
      "  Downloading yarl-1.20.1-cp311-cp311-win_amd64.whl.metadata (76 kB)\n",
      "Requirement already satisfied: langchain-text-splitters<1.0.0,>=0.3.8 in c:\\users\\ranga\\appdata\\local\\programs\\python\\python311\\lib\\site-packages (from langchain<0.4.0,>=0.3.20->langchain_tavily) (0.3.8)\n",
      "Requirement already satisfied: langsmith>=0.1.17 in c:\\users\\ranga\\appdata\\local\\programs\\python\\python311\\lib\\site-packages (from langchain<0.4.0,>=0.3.20->langchain_tavily) (0.4.1)\n",
      "Requirement already satisfied: pydantic<3.0.0,>=2.7.4 in c:\\users\\ranga\\appdata\\local\\programs\\python\\python311\\lib\\site-packages (from langchain<0.4.0,>=0.3.20->langchain_tavily) (2.10.2)\n",
      "Requirement already satisfied: SQLAlchemy<3,>=1.4 in c:\\users\\ranga\\appdata\\local\\programs\\python\\python311\\lib\\site-packages (from langchain<0.4.0,>=0.3.20->langchain_tavily) (2.0.41)\n",
      "Requirement already satisfied: PyYAML>=5.3 in c:\\users\\ranga\\appdata\\local\\programs\\python\\python311\\lib\\site-packages (from langchain<0.4.0,>=0.3.20->langchain_tavily) (6.0.1)\n",
      "Requirement already satisfied: tenacity!=8.4.0,<10.0.0,>=8.1.0 in c:\\users\\ranga\\appdata\\local\\programs\\python\\python311\\lib\\site-packages (from langchain-core<0.4.0,>=0.3.15->langchain_tavily) (9.1.2)\n",
      "Requirement already satisfied: jsonpatch<2.0,>=1.33 in c:\\users\\ranga\\appdata\\local\\programs\\python\\python311\\lib\\site-packages (from langchain-core<0.4.0,>=0.3.15->langchain_tavily) (1.33)\n",
      "Requirement already satisfied: packaging<25,>=23.2 in c:\\users\\ranga\\appdata\\local\\programs\\python\\python311\\lib\\site-packages (from langchain-core<0.4.0,>=0.3.15->langchain_tavily) (24.0)\n",
      "Requirement already satisfied: typing-extensions>=4.7 in c:\\users\\ranga\\appdata\\local\\programs\\python\\python311\\lib\\site-packages (from langchain-core<0.4.0,>=0.3.15->langchain_tavily) (4.12.2)\n",
      "Requirement already satisfied: jsonpointer>=1.9 in c:\\users\\ranga\\appdata\\local\\programs\\python\\python311\\lib\\site-packages (from jsonpatch<2.0,>=1.33->langchain-core<0.4.0,>=0.3.15->langchain_tavily) (2.4)\n",
      "Collecting mypy_extensions>=1.0.0 (from mypy<2.0.0,>=1.15.0->langchain_tavily)\n",
      "  Downloading mypy_extensions-1.1.0-py3-none-any.whl.metadata (1.1 kB)\n",
      "Collecting pathspec>=0.9.0 (from mypy<2.0.0,>=1.15.0->langchain_tavily)\n",
      "  Downloading pathspec-0.12.1-py3-none-any.whl.metadata (21 kB)\n",
      "Requirement already satisfied: annotated-types>=0.6.0 in c:\\users\\ranga\\appdata\\local\\programs\\python\\python311\\lib\\site-packages (from pydantic<3.0.0,>=2.7.4->langchain<0.4.0,>=0.3.20->langchain_tavily) (0.7.0)\n",
      "Requirement already satisfied: pydantic-core==2.27.1 in c:\\users\\ranga\\appdata\\local\\programs\\python\\python311\\lib\\site-packages (from pydantic<3.0.0,>=2.7.4->langchain<0.4.0,>=0.3.20->langchain_tavily) (2.27.1)\n",
      "Requirement already satisfied: charset_normalizer<4,>=2 in c:\\users\\ranga\\appdata\\local\\programs\\python\\python311\\lib\\site-packages (from requests<3.0.0,>=2.32.3->langchain_tavily) (3.3.2)\n",
      "Requirement already satisfied: idna<4,>=2.5 in c:\\users\\ranga\\appdata\\local\\programs\\python\\python311\\lib\\site-packages (from requests<3.0.0,>=2.32.3->langchain_tavily) (3.7)\n",
      "Requirement already satisfied: urllib3<3,>=1.21.1 in c:\\users\\ranga\\appdata\\local\\programs\\python\\python311\\lib\\site-packages (from requests<3.0.0,>=2.32.3->langchain_tavily) (2.2.1)\n",
      "Requirement already satisfied: certifi>=2017.4.17 in c:\\users\\ranga\\appdata\\local\\programs\\python\\python311\\lib\\site-packages (from requests<3.0.0,>=2.32.3->langchain_tavily) (2024.2.2)\n",
      "Requirement already satisfied: greenlet>=1 in c:\\users\\ranga\\appdata\\local\\programs\\python\\python311\\lib\\site-packages (from SQLAlchemy<3,>=1.4->langchain<0.4.0,>=0.3.20->langchain_tavily) (3.2.3)\n",
      "Requirement already satisfied: httpx<1,>=0.23.0 in c:\\users\\ranga\\appdata\\local\\programs\\python\\python311\\lib\\site-packages (from langsmith>=0.1.17->langchain<0.4.0,>=0.3.20->langchain_tavily) (0.27.0)\n",
      "Requirement already satisfied: orjson<4.0.0,>=3.9.14 in c:\\users\\ranga\\appdata\\local\\programs\\python\\python311\\lib\\site-packages (from langsmith>=0.1.17->langchain<0.4.0,>=0.3.20->langchain_tavily) (3.10.18)\n",
      "Requirement already satisfied: requests-toolbelt<2.0.0,>=1.0.0 in c:\\users\\ranga\\appdata\\local\\programs\\python\\python311\\lib\\site-packages (from langsmith>=0.1.17->langchain<0.4.0,>=0.3.20->langchain_tavily) (1.0.0)\n",
      "Requirement already satisfied: zstandard<0.24.0,>=0.23.0 in c:\\users\\ranga\\appdata\\local\\programs\\python\\python311\\lib\\site-packages (from langsmith>=0.1.17->langchain<0.4.0,>=0.3.20->langchain_tavily) (0.23.0)\n",
      "Requirement already satisfied: anyio in c:\\users\\ranga\\appdata\\local\\programs\\python\\python311\\lib\\site-packages (from httpx<1,>=0.23.0->langsmith>=0.1.17->langchain<0.4.0,>=0.3.20->langchain_tavily) (4.4.0)\n",
      "Requirement already satisfied: httpcore==1.* in c:\\users\\ranga\\appdata\\local\\programs\\python\\python311\\lib\\site-packages (from httpx<1,>=0.23.0->langsmith>=0.1.17->langchain<0.4.0,>=0.3.20->langchain_tavily) (1.0.5)\n",
      "Requirement already satisfied: sniffio in c:\\users\\ranga\\appdata\\local\\programs\\python\\python311\\lib\\site-packages (from httpx<1,>=0.23.0->langsmith>=0.1.17->langchain<0.4.0,>=0.3.20->langchain_tavily) (1.3.1)\n",
      "Requirement already satisfied: h11<0.15,>=0.13 in c:\\users\\ranga\\appdata\\local\\programs\\python\\python311\\lib\\site-packages (from httpcore==1.*->httpx<1,>=0.23.0->langsmith>=0.1.17->langchain<0.4.0,>=0.3.20->langchain_tavily) (0.14.0)\n",
      "Downloading langchain_tavily-0.2.3-py3-none-any.whl (24 kB)\n",
      "Downloading aiohttp-3.12.13-cp311-cp311-win_amd64.whl (451 kB)\n",
      "Downloading multidict-6.5.0-cp311-cp311-win_amd64.whl (44 kB)\n",
      "Downloading mypy-1.16.1-cp311-cp311-win_amd64.whl (9.5 MB)\n",
      "   ---------------------------------------- 0.0/9.5 MB ? eta -:--:--\n",
      "   --------- ------------------------------ 2.4/9.5 MB 13.4 MB/s eta 0:00:01\n",
      "   ------------------- -------------------- 4.7/9.5 MB 11.9 MB/s eta 0:00:01\n",
      "   ---------------------- ----------------- 5.2/9.5 MB 11.4 MB/s eta 0:00:01\n",
      "   ------------------------- -------------- 6.0/9.5 MB 7.2 MB/s eta 0:00:01\n",
      "   ----------------------------- ---------- 7.1/9.5 MB 6.6 MB/s eta 0:00:01\n",
      "   ---------------------------------- ----- 8.1/9.5 MB 6.6 MB/s eta 0:00:01\n",
      "   -------------------------------------- - 9.2/9.5 MB 6.5 MB/s eta 0:00:01\n",
      "   ---------------------------------------- 9.5/9.5 MB 6.1 MB/s eta 0:00:00\n",
      "Using cached requests-2.32.4-py3-none-any.whl (64 kB)\n",
      "Downloading yarl-1.20.1-cp311-cp311-win_amd64.whl (86 kB)\n",
      "Downloading aiohappyeyeballs-2.6.1-py3-none-any.whl (15 kB)\n",
      "Downloading aiosignal-1.3.2-py2.py3-none-any.whl (7.6 kB)\n",
      "Downloading frozenlist-1.7.0-cp311-cp311-win_amd64.whl (44 kB)\n",
      "Downloading mypy_extensions-1.1.0-py3-none-any.whl (5.0 kB)\n",
      "Downloading pathspec-0.12.1-py3-none-any.whl (31 kB)\n",
      "Downloading propcache-0.3.2-cp311-cp311-win_amd64.whl (41 kB)\n",
      "Installing collected packages: requests, propcache, pathspec, mypy_extensions, multidict, frozenlist, aiohappyeyeballs, yarl, mypy, aiosignal, aiohttp, langchain_tavily\n",
      "\n",
      "  Attempting uninstall: requests\n",
      "\n",
      "    Found existing installation: requests 2.31.0\n",
      "\n",
      "    Uninstalling requests-2.31.0:\n",
      "\n",
      "      Successfully uninstalled requests-2.31.0\n",
      "\n",
      "   ----------------------------------------  0/12 [requests]\n",
      "   ----------------------------------------  0/12 [requests]\n",
      "   --- ------------------------------------  1/12 [propcache]\n",
      "   ------ ---------------------------------  2/12 [pathspec]\n",
      "   ------------- --------------------------  4/12 [multidict]\n",
      "   -------------------- -------------------  6/12 [aiohappyeyeballs]\n",
      "   ----------------------- ----------------  7/12 [yarl]\n",
      "   ----------------------- ----------------  7/12 [yarl]\n",
      "   -------------------------- -------------  8/12 [mypy]\n",
      "   -------------------------- -------------  8/12 [mypy]\n",
      "   -------------------------- -------------  8/12 [mypy]\n",
      "   -------------------------- -------------  8/12 [mypy]\n",
      "   -------------------------- -------------  8/12 [mypy]\n",
      "   -------------------------- -------------  8/12 [mypy]\n",
      "   -------------------------- -------------  8/12 [mypy]\n",
      "   -------------------------- -------------  8/12 [mypy]\n",
      "   -------------------------- -------------  8/12 [mypy]\n",
      "   -------------------------- -------------  8/12 [mypy]\n",
      "   -------------------------- -------------  8/12 [mypy]\n",
      "   -------------------------- -------------  8/12 [mypy]\n",
      "   -------------------------- -------------  8/12 [mypy]\n",
      "   -------------------------- -------------  8/12 [mypy]\n",
      "   -------------------------- -------------  8/12 [mypy]\n",
      "   -------------------------- -------------  8/12 [mypy]\n",
      "   -------------------------- -------------  8/12 [mypy]\n",
      "   -------------------------- -------------  8/12 [mypy]\n",
      "   -------------------------- -------------  8/12 [mypy]\n",
      "   -------------------------- -------------  8/12 [mypy]\n",
      "   -------------------------- -------------  8/12 [mypy]\n",
      "   -------------------------- -------------  8/12 [mypy]\n",
      "   -------------------------- -------------  8/12 [mypy]\n",
      "   -------------------------- -------------  8/12 [mypy]\n",
      "   -------------------------- -------------  8/12 [mypy]\n",
      "   -------------------------- -------------  8/12 [mypy]\n",
      "   -------------------------- -------------  8/12 [mypy]\n",
      "   -------------------------- -------------  8/12 [mypy]\n",
      "   -------------------------- -------------  8/12 [mypy]\n",
      "   -------------------------- -------------  8/12 [mypy]\n",
      "   -------------------------- -------------  8/12 [mypy]\n",
      "   -------------------------- -------------  8/12 [mypy]\n",
      "   -------------------------- -------------  8/12 [mypy]\n",
      "   -------------------------- -------------  8/12 [mypy]\n",
      "   -------------------------- -------------  8/12 [mypy]\n",
      "   -------------------------- -------------  8/12 [mypy]\n",
      "   -------------------------- -------------  8/12 [mypy]\n",
      "   -------------------------- -------------  8/12 [mypy]\n",
      "   -------------------------- -------------  8/12 [mypy]\n",
      "   -------------------------- -------------  8/12 [mypy]\n",
      "   -------------------------- -------------  8/12 [mypy]\n",
      "   -------------------------- -------------  8/12 [mypy]\n",
      "   -------------------------- -------------  8/12 [mypy]\n",
      "   -------------------------- -------------  8/12 [mypy]\n",
      "   -------------------------- -------------  8/12 [mypy]\n",
      "   -------------------------- -------------  8/12 [mypy]\n",
      "   -------------------------- -------------  8/12 [mypy]\n",
      "   -------------------------- -------------  8/12 [mypy]\n",
      "   -------------------------- -------------  8/12 [mypy]\n",
      "   -------------------------- -------------  8/12 [mypy]\n",
      "   -------------------------- -------------  8/12 [mypy]\n",
      "   -------------------------- -------------  8/12 [mypy]\n",
      "   -------------------------- -------------  8/12 [mypy]\n",
      "   -------------------------- -------------  8/12 [mypy]\n",
      "   -------------------------- -------------  8/12 [mypy]\n",
      "   -------------------------- -------------  8/12 [mypy]\n",
      "   -------------------------- -------------  8/12 [mypy]\n",
      "   -------------------------- -------------  8/12 [mypy]\n",
      "   -------------------------- -------------  8/12 [mypy]\n",
      "   -------------------------- -------------  8/12 [mypy]\n",
      "   -------------------------- -------------  8/12 [mypy]\n",
      "   -------------------------- -------------  8/12 [mypy]\n",
      "   -------------------------- -------------  8/12 [mypy]\n",
      "   -------------------------- -------------  8/12 [mypy]\n",
      "   -------------------------- -------------  8/12 [mypy]\n",
      "   -------------------------- -------------  8/12 [mypy]\n",
      "   -------------------------- -------------  8/12 [mypy]\n",
      "   -------------------------- -------------  8/12 [mypy]\n",
      "   -------------------------- -------------  8/12 [mypy]\n",
      "   -------------------------- -------------  8/12 [mypy]\n",
      "   --------------------------------- ------ 10/12 [aiohttp]\n",
      "   --------------------------------- ------ 10/12 [aiohttp]\n",
      "   --------------------------------- ------ 10/12 [aiohttp]\n",
      "   --------------------------------- ------ 10/12 [aiohttp]\n",
      "   --------------------------------- ------ 10/12 [aiohttp]\n",
      "   --------------------------------- ------ 10/12 [aiohttp]\n",
      "   --------------------------------- ------ 10/12 [aiohttp]\n",
      "   --------------------------------- ------ 10/12 [aiohttp]\n",
      "   --------------------------------- ------ 10/12 [aiohttp]\n",
      "   --------------------------------- ------ 10/12 [aiohttp]\n",
      "   --------------------------------- ------ 10/12 [aiohttp]\n",
      "   --------------------------------- ------ 10/12 [aiohttp]\n",
      "   ------------------------------------ --- 11/12 [langchain_tavily]\n",
      "   ---------------------------------------- 12/12 [langchain_tavily]\n",
      "\n",
      "Successfully installed aiohappyeyeballs-2.6.1 aiohttp-3.12.13 aiosignal-1.3.2 frozenlist-1.7.0 langchain_tavily-0.2.3 multidict-6.5.0 mypy-1.16.1 mypy_extensions-1.1.0 pathspec-0.12.1 propcache-0.3.2 requests-2.32.4 yarl-1.20.1\n"
     ]
    }
   ],
   "source": [
    "!pip install langchain_tavily"
   ]
  },
  {
   "cell_type": "code",
   "execution_count": null,
   "id": "45c4d927",
   "metadata": {},
   "outputs": [
    {
     "data": {
      "text/plain": [
       "{'query': 'What is langgraph',\n",
       " 'follow_up_questions': None,\n",
       " 'answer': None,\n",
       " 'images': [],\n",
       " 'results': [{'title': 'What is LangGraph? - IBM',\n",
       "   'url': 'https://www.ibm.com/think/topics/langgraph',\n",
       "   'content': 'LangGraph, created by LangChain, is an open source AI agent framework designed to build, deploy and manage complex generative AI agent workflows. At its core, LangGraph uses the power of graph-based architectures to model and manage the intricate relationships between various components of an AI agent workflow. LangGraph illuminates the processes within an AI workflow, allowing full transparency of the agent’s state. By combining these technologies with a set of APIs and tools, LangGraph provides users with a versatile platform for developing AI solutions and workflows including chatbots, state graphs and other agent-based systems. Nodes: In LangGraph, nodes represent individual components or agents within an AI workflow. LangGraph uses enhanced decision-making by modeling complex relationships between nodes, which means it uses AI agents to analyze their past actions and feedback.',\n",
       "   'score': 0.94401723,\n",
       "   'raw_content': None},\n",
       "  {'title': 'What is LangGraph? - GeeksforGeeks',\n",
       "   'url': 'https://www.geeksforgeeks.org/machine-learning/what-is-langgraph/',\n",
       "   'content': 'LangGraph is a Python library that helps you build applications like chatbots or AI agents by organizing their logic step-by-step using state machine model. This step configures your Gemini API key and then we create a simple function ask_gemini that takes user input, sends it to the Gemini model and returns the AI-generated response. Creates a state structure with three fields: question, classification and response which flows through the LangGraph. import matplotlib.pyplot as plt from langgraph.graph import StateGraph\\u200bbuilder = StateGraph(GraphState)builder.add_node(\"classify\", classify)builder.add_node(\"respond\", respond)builder.set_entry_point(\"classify\")builder.add_edge(\"classify\", \"respond\")builder.set_finish_point(\"respond\")app = builder.compile()\\u200bdef visualize_workflow(builder): G = nx.DiGraph()\\u200b for node in builder.nodes: G.add_node(node) for edge in builder.edges: G.add_edge(edge[0], edge[1])\\u200b pos = nx.spring_layout(G) nx.draw(G, pos, with_labels=True, node_size=3000, node_color=\"skyblue\", font_size=12, font_weight=\"bold\", arrows=True)  plt.title(\"Langchain Workflow Visualization\") plt.show()\\u200bvisualize_workflow(builder)',\n",
       "   'score': 0.91137725,\n",
       "   'raw_content': None}],\n",
       " 'response_time': 1.69}"
      ]
     },
     "execution_count": 5,
     "metadata": {},
     "output_type": "execute_result"
    }
   ],
   "source": [
    "from langchain_tavily import TavilySearch\n",
    "#travility tool\n",
    "tool=TavilySearch(max_results=2)\n",
    "tool.invoke(\"What is langgraph\")"
   ]
  },
  {
   "cell_type": "code",
   "execution_count": 7,
   "id": "36be36db",
   "metadata": {},
   "outputs": [],
   "source": [
    "#multiplication tool\n",
    "def multiply(a:int,b:int)->int:\n",
    "    \"\"\"Multiply a and b\n",
    "\n",
    "    Args:\n",
    "        a (int): first int\n",
    "        b (int): second int\n",
    "\n",
    "    Returns:\n",
    "        int: output int\n",
    "    \"\"\"\n",
    "    return a*b"
   ]
  },
  {
   "cell_type": "markdown",
   "id": "1fcfead4",
   "metadata": {},
   "source": [
    "binding tools with llm "
   ]
  },
  {
   "cell_type": "code",
   "execution_count": 8,
   "id": "28f4b420",
   "metadata": {},
   "outputs": [
    {
     "data": {
      "text/plain": [
       "RunnableBinding(bound=ChatGroq(client=<groq.resources.chat.completions.Completions object at 0x000002B8521C8110>, async_client=<groq.resources.chat.completions.AsyncCompletions object at 0x000002B8520F9E10>, model_name='llama3-8b-8192', model_kwargs={}, groq_api_key=SecretStr('**********')), kwargs={'tools': [{'type': 'function', 'function': {'name': 'tavily_search', 'description': 'A search engine optimized for comprehensive, accurate, and trusted results. Useful for when you need to answer questions about current events. It not only retrieves URLs and snippets, but offers advanced search depths, domain management, time range filters, and image search, this tool delivers real-time, accurate, and citation-backed results.Input should be a search query.', 'parameters': {'properties': {'query': {'description': 'Search query to look up', 'type': 'string'}, 'include_domains': {'anyOf': [{'items': {'type': 'string'}, 'type': 'array'}, {'type': 'null'}], 'default': [], 'description': 'A list of domains to restrict search results to.\\n\\n        Use this parameter when:\\n        1. The user explicitly requests information from specific websites (e.g., \"Find climate data from nasa.gov\")\\n        2. The user mentions an organization or company without specifying the domain (e.g., \"Find information about iPhones from Apple\")\\n\\n        In both cases, you should determine the appropriate domains (e.g., [\"nasa.gov\"] or [\"apple.com\"]) and set this parameter.\\n\\n        Results will ONLY come from the specified domains - no other sources will be included.\\n        Default is None (no domain restriction).\\n        '}, 'exclude_domains': {'anyOf': [{'items': {'type': 'string'}, 'type': 'array'}, {'type': 'null'}], 'default': [], 'description': 'A list of domains to exclude from search results.\\n\\n        Use this parameter when:\\n        1. The user explicitly requests to avoid certain websites (e.g., \"Find information about climate change but not from twitter.com\")\\n        2. The user mentions not wanting results from specific organizations without naming the domain (e.g., \"Find phone reviews but nothing from Apple\")\\n\\n        In both cases, you should determine the appropriate domains to exclude (e.g., [\"twitter.com\"] or [\"apple.com\"]) and set this parameter.\\n\\n        Results will filter out all content from the specified domains.\\n        Default is None (no domain exclusion).\\n        '}, 'search_depth': {'anyOf': [{'enum': ['basic', 'advanced'], 'type': 'string'}, {'type': 'null'}], 'default': 'basic', 'description': 'Controls search thoroughness and result comprehensiveness.\\n    \\n        Use \"basic\" for simple queries requiring quick, straightforward answers.\\n        \\n        Use \"advanced\" (default) for complex queries, specialized topics, \\n        rare information, or when in-depth analysis is needed.\\n        '}, 'include_images': {'anyOf': [{'type': 'boolean'}, {'type': 'null'}], 'default': False, 'description': 'Determines if the search returns relevant images along with text results.\\n   \\n        Set to True when the user explicitly requests visuals or when images would \\n        significantly enhance understanding (e.g., \"Show me what black holes look like,\" \\n        \"Find pictures of Renaissance art\").\\n        \\n        Leave as False (default) for most informational queries where text is sufficient.\\n        '}, 'time_range': {'anyOf': [{'enum': ['day', 'week', 'month', 'year'], 'type': 'string'}, {'type': 'null'}], 'default': None, 'description': 'Limits results to content published within a specific timeframe.\\n        \\n        ONLY set this when the user explicitly mentions a time period \\n        (e.g., \"latest AI news,\" \"articles from last week\").\\n        \\n        For less popular or niche topics, use broader time ranges \\n        (\"month\" or \"year\") to ensure sufficient relevant results.\\n   \\n        Options: \"day\" (24h), \"week\" (7d), \"month\" (30d), \"year\" (365d).\\n        \\n        Default is None.\\n        '}, 'topic': {'anyOf': [{'enum': ['general', 'news', 'finance'], 'type': 'string'}, {'type': 'null'}], 'default': 'general', 'description': 'Specifies search category for optimized results.\\n   \\n        Use \"general\" (default) for most queries, INCLUDING those with terms like \\n        \"latest,\" \"newest,\" or \"recent\" when referring to general information.\\n\\n        Use \"finance\" for markets, investments, economic data, or financial news.\\n\\n        Use \"news\" ONLY for politics, sports, or major current events covered by \\n        mainstream media - NOT simply because a query asks for \"new\" information.\\n        '}}, 'required': ['query'], 'type': 'object'}}}, {'type': 'function', 'function': {'name': 'multiply', 'description': 'Multiply a and b', 'parameters': {'properties': {'a': {'description': 'first int', 'type': 'integer'}, 'b': {'description': 'second int', 'type': 'integer'}}, 'required': ['a', 'b'], 'type': 'object'}}}]}, config={}, config_factories=[])"
      ]
     },
     "execution_count": 8,
     "metadata": {},
     "output_type": "execute_result"
    }
   ],
   "source": [
    "tools=[tool,multiply] #tools are ready...travily and multiply\n",
    "llm_with_tool=llm.bind_tools(tools) #binding tools with llm\n",
    "llm_with_tool"
   ]
  },
  {
   "cell_type": "code",
   "execution_count": 9,
   "id": "7ec88746",
   "metadata": {},
   "outputs": [
    {
     "data": {
      "image/png": "[encoded data removed]",
      "text/plain": [
       "<IPython.core.display.Image object>"
      ]
     },
     "metadata": {},
     "output_type": "display_data"
    }
   ],
   "source": [
    "## Stategraph\n",
    "from langgraph.graph import StateGraph,START,END\n",
    "from langgraph.prebuilt import ToolNode\n",
    "from langgraph.prebuilt import tools_condition\n",
    "\n",
    "## Node definition\n",
    "def tool_calling_llm(state:State):\n",
    "    return {\"messages\":[llm_with_tool.invoke(state[\"messages\"])]}\n",
    "\n",
    "## Grpah\n",
    "builder=StateGraph(State)\n",
    "builder.add_node(\"tool_calling_llm\",tool_calling_llm)\n",
    "builder.add_node(\"tools\",ToolNode(tools))\n",
    "\n",
    "## Add Edges\n",
    "builder.add_edge(START, \"tool_calling_llm\")\n",
    "builder.add_conditional_edges(\n",
    "    \"tool_calling_llm\",\n",
    "    # If the latest message (result) from assistant is a tool call -> tools_condition routes to tools\n",
    "    # If the latest message (result) from assistant is a not a tool call -> tools_condition routes to END\n",
    "    tools_condition\n",
    ")\n",
    "builder.add_edge(\"tools\",END)\n",
    "\n",
    "## compile the graph\n",
    "graph=builder.compile()\n",
    "\n",
    "from IPython.display import Image, display\n",
    "display(Image(graph.get_graph().draw_mermaid_png()))"
   ]
  },
  {
   "cell_type": "code",
   "execution_count": 14,
   "id": "959dfbe6",
   "metadata": {},
   "outputs": [],
   "source": [
    "response=graph.invoke({\"messages\":\"What is the recent ai news\"})"
   ]
  },
  {
   "cell_type": "code",
   "execution_count": 15,
   "id": "33a1cb8f",
   "metadata": {},
   "outputs": [
    {
     "data": {
      "text/plain": [
       "[HumanMessage(content='What is the recent ai news', additional_kwargs={}, response_metadata={}, id='7a490cf6-fe8c-4660-baa1-d4fd1a3785f8'),\n",
       " AIMessage(content='', additional_kwargs={'tool_calls': [{'id': 'ny9c00ysb', 'function': {'arguments': '{\"query\":\"recent ai news\",\"search_depth\":\"advanced\",\"time_range\":\"week\",\"topic\":\"news\"}', 'name': 'tavily_search'}, 'type': 'function'}]}, response_metadata={'token_usage': {'completion_tokens': 93, 'prompt_tokens': 2194, 'total_tokens': 2287, 'completion_time': 0.120376943, 'prompt_time': 0.24318836, 'queue_time': 0.26941920900000005, 'total_time': 0.363565303}, 'model_name': 'llama3-8b-8192', 'system_fingerprint': 'fp_8af39bf2ae', 'finish_reason': 'tool_calls', 'logprobs': None}, id='run--b0c2f2a1-1a4e-4a08-ba5d-ad3e95427255-0', tool_calls=[{'name': 'tavily_search', 'args': {'query': 'recent ai news', 'search_depth': 'advanced', 'time_range': 'week', 'topic': 'news'}, 'id': 'ny9c00ysb', 'type': 'tool_call'}], usage_metadata={'input_tokens': 2194, 'output_tokens': 93, 'total_tokens': 2287}),\n",
       " ToolMessage(content='{\"query\": \"recent ai news\", \"follow_up_questions\": null, \"answer\": null, \"images\": [], \"results\": [{\"url\": \"https://www.csoonline.com/article/4008912/wormgpt-returns-new-malicious-ai-variants-built-on-grok-and-mixtral-uncovered.html\", \"title\": \"WormGPT returns: New malicious AI variants built on Grok and Mixtral uncovered - csoonline.com\", \"score\": 0.70214266, \"published_date\": \"Wed, 18 Jun 2025 12:17:59 GMT\", \"content\": \"news ### New npm threats can erase production systems with a single request Jun 10, 2025 3 mins\\\\n   news ### Chrome extension privacy promises undone by hardcoded secrets, leaky HTTP Jun 9, 2025 4 mins\\\\n   news ### New phishing campaign hijacks clipboard via fake CAPTCHA for malware delivery Jun 6, 2025 4 mins\\\\n   news ### Supply chain attack hits RubyGems to steal Telegram API data Jun 5, 2025 4 mins [...] Related content\\\\n---------------\\\\n\\\\nOpinion ### Security, risk and compliance in the world of AI agents By Nikhil Sarnot Jun 17, 2025 12 mins Artificial Intelligence Compliance IT GovernanceNews ### Phishing goes prime time: Hackers use trusted sites to hijack search rankings By Shweta Sharma Jun 17, 2025 5 mins Phishing SecurityNews ### Malicious PyPI package targets Chimera users to steal AWS tokens, CI/CD secrets By Shweta Sharma Jun 17, 2025 4 mins Developer Malware Security [...] news ### ‘Grafana Ghost’ XSS flaw exposes 47,000 servers to account takeover Jun 16, 2025 3 mins\\\\n   news ### Fog ransomware gang abuses employee monitoring tool in unusual multi-stage attack Jun 13, 2025 4 mins\\\\n   news ### Phishing sites posing as DeepSeek downloads drop a proxy backdoor Jun 12, 2025 4 mins\\\\n   news ### China-linked hackers target cybersecurity firms, governments in global espionage campaign Jun 11, 2025 4 mins\", \"raw_content\": null}, {\"url\": \"https://www.techtarget.com/searchenterpriseai/news/366626101/Apple-AI-paper-likely-self-serving-but-has-some-merit\", \"title\": \"Apple AI paper likely self-serving but has some merit - TechTarget\", \"score\": 0.6241337, \"published_date\": \"Tue, 17 Jun 2025 20:18:27 GMT\", \"content\": \"\\\\\"The ambition and the hope are warranted, but if these systems can\\'t perform even on moderately complex tasks, then it\\'s better to understand it relatively early on,\\\\\" Bennett added.\\\\n\\\\nMeanwhile, on June 16, Chinese vendor Alibaba revealed that its new Qwen 3 models will run on Apple devices, including iPhone, iPad, MacBook and Mac.\\\\n\\\\n_Esther Shittu is an Informa TechTarget news writer and podcast host covering AI software and systems._\\\\n\\\\n#### Related Resources [...] Latest TechTarget resources\\\\n   Business Analytics\\\\n   CIO\\\\n   Data Management\\\\n   ERP\\\\n\\\\nSearch Business Analytics\\\\n   ThoughtSpot evolving as BI becomes driven by AI\\\\nRecent releases, including the Agentic Analytics Platform and Agentic Semantic Layer, demonstrate that the vendor continues to be...\\\\n\\\\n   Latest Databricks tools use AI to simplify AI development\\\\nFueled by user feedback, the vendor\\'s newest features include a framework that automates building agents and a no-code interface ...\", \"raw_content\": null}], \"response_time\": 1.56}', name='tavily_search', id='3083fb61-a6fb-44e5-b0a7-b46571e611b9', tool_call_id='ny9c00ysb')]"
      ]
     },
     "execution_count": 15,
     "metadata": {},
     "output_type": "execute_result"
    }
   ],
   "source": [
    "response[\"messages\"]"
   ]
  },
  {
   "cell_type": "markdown",
   "id": "984aef2a",
   "metadata": {},
   "source": [
    "AS WE CAN SEE THERE IS NO AI MESSAGE(RESPONSE FROM LLM)...INSTEAD THERE SI A TOOL MESSAGE(TOOL CALL TO TRAVILY IS HAPPEDENED)...llm with binding tools returns tool calls(llm.bind_tools())"
   ]
  },
  {
   "cell_type": "markdown",
   "id": "da47c04d",
   "metadata": {},
   "source": []
  },
  {
   "cell_type": "code",
   "execution_count": 22,
   "id": "b7f95426",
   "metadata": {},
   "outputs": [
    {
     "data": {
      "text/plain": [
       "'{\"query\": \"recent ai news\", \"follow_up_questions\": null, \"answer\": null, \"images\": [], \"results\": [{\"url\": \"https://www.csoonline.com/article/4008912/wormgpt-returns-new-malicious-ai-variants-built-on-grok-and-mixtral-uncovered.html\", \"title\": \"WormGPT returns: New malicious AI variants built on Grok and Mixtral uncovered - csoonline.com\", \"score\": 0.70214266, \"published_date\": \"Wed, 18 Jun 2025 12:17:59 GMT\", \"content\": \"news ### New npm threats can erase production systems with a single request Jun 10, 2025 3 mins\\\\n   news ### Chrome extension privacy promises undone by hardcoded secrets, leaky HTTP Jun 9, 2025 4 mins\\\\n   news ### New phishing campaign hijacks clipboard via fake CAPTCHA for malware delivery Jun 6, 2025 4 mins\\\\n   news ### Supply chain attack hits RubyGems to steal Telegram API data Jun 5, 2025 4 mins [...] Related content\\\\n---------------\\\\n\\\\nOpinion ### Security, risk and compliance in the world of AI agents By Nikhil Sarnot Jun 17, 2025 12 mins Artificial Intelligence Compliance IT GovernanceNews ### Phishing goes prime time: Hackers use trusted sites to hijack search rankings By Shweta Sharma Jun 17, 2025 5 mins Phishing SecurityNews ### Malicious PyPI package targets Chimera users to steal AWS tokens, CI/CD secrets By Shweta Sharma Jun 17, 2025 4 mins Developer Malware Security [...] news ### ‘Grafana Ghost’ XSS flaw exposes 47,000 servers to account takeover Jun 16, 2025 3 mins\\\\n   news ### Fog ransomware gang abuses employee monitoring tool in unusual multi-stage attack Jun 13, 2025 4 mins\\\\n   news ### Phishing sites posing as DeepSeek downloads drop a proxy backdoor Jun 12, 2025 4 mins\\\\n   news ### China-linked hackers target cybersecurity firms, governments in global espionage campaign Jun 11, 2025 4 mins\", \"raw_content\": null}, {\"url\": \"https://www.techtarget.com/searchenterpriseai/news/366626101/Apple-AI-paper-likely-self-serving-but-has-some-merit\", \"title\": \"Apple AI paper likely self-serving but has some merit - TechTarget\", \"score\": 0.6241337, \"published_date\": \"Tue, 17 Jun 2025 20:18:27 GMT\", \"content\": \"\\\\\"The ambition and the hope are warranted, but if these systems can\\'t perform even on moderately complex tasks, then it\\'s better to understand it relatively early on,\\\\\" Bennett added.\\\\n\\\\nMeanwhile, on June 16, Chinese vendor Alibaba revealed that its new Qwen 3 models will run on Apple devices, including iPhone, iPad, MacBook and Mac.\\\\n\\\\n_Esther Shittu is an Informa TechTarget news writer and podcast host covering AI software and systems._\\\\n\\\\n#### Related Resources [...] Latest TechTarget resources\\\\n   Business Analytics\\\\n   CIO\\\\n   Data Management\\\\n   ERP\\\\n\\\\nSearch Business Analytics\\\\n   ThoughtSpot evolving as BI becomes driven by AI\\\\nRecent releases, including the Agentic Analytics Platform and Agentic Semantic Layer, demonstrate that the vendor continues to be...\\\\n\\\\n   Latest Databricks tools use AI to simplify AI development\\\\nFueled by user feedback, the vendor\\'s newest features include a framework that automates building agents and a no-code interface ...\", \"raw_content\": null}], \"response_time\": 1.56}'"
      ]
     },
     "execution_count": 22,
     "metadata": {},
     "output_type": "execute_result"
    }
   ],
   "source": [
    "response[\"messages\"][-1].content"
   ]
  },
  {
   "cell_type": "code",
   "execution_count": null,
   "id": "ee47220f",
   "metadata": {},
   "outputs": [],
   "source": [
    "response=graph.invoke({\"messages\":\"2 multiply by 5\"}) #tool call to multiply function"
   ]
  },
  {
   "cell_type": "code",
   "execution_count": 24,
   "id": "19e8bc3a",
   "metadata": {},
   "outputs": [
    {
     "data": {
      "text/plain": [
       "[HumanMessage(content='2 multiply by 5', additional_kwargs={}, response_metadata={}, id='70af6c44-3cec-4063-8f27-9c04792160e7'),\n",
       " AIMessage(content='', additional_kwargs={'tool_calls': [{'id': 'cnp7f1rv7', 'function': {'arguments': '{\"a\":2,\"b\":5}', 'name': 'multiply'}, 'type': 'function'}]}, response_metadata={'token_usage': {'completion_tokens': 72, 'prompt_tokens': 2193, 'total_tokens': 2265, 'completion_time': 0.078790695, 'prompt_time': 0.242451688, 'queue_time': 0.273387411, 'total_time': 0.321242383}, 'model_name': 'llama3-8b-8192', 'system_fingerprint': 'fp_8b7c3a83f7', 'finish_reason': 'tool_calls', 'logprobs': None}, id='run--e0758406-00d4-4a6c-b1b1-ca0960f27e00-0', tool_calls=[{'name': 'multiply', 'args': {'a': 2, 'b': 5}, 'id': 'cnp7f1rv7', 'type': 'tool_call'}], usage_metadata={'input_tokens': 2193, 'output_tokens': 72, 'total_tokens': 2265}),\n",
       " ToolMessage(content='10', name='multiply', id='ae115e13-651b-401b-abe8-a96c7d1b1bb8', tool_call_id='cnp7f1rv7')]"
      ]
     },
     "execution_count": 24,
     "metadata": {},
     "output_type": "execute_result"
    }
   ],
   "source": [
    "response[\"messages\"]"
   ]
  },
  {
   "cell_type": "code",
   "execution_count": 11,
   "id": "26bce104",
   "metadata": {},
   "outputs": [],
   "source": [
    "response=graph.invoke({\"messages\":\"define langgraph\"}) "
   ]
  },
  {
   "cell_type": "code",
   "execution_count": null,
   "id": "370c94a7",
   "metadata": {},
   "outputs": [
    {
     "data": {
      "text/plain": [
       "[HumanMessage(content='define langgraph', additional_kwargs={}, response_metadata={}, id='96671844-873f-4c46-bbf3-0e5023c19fe7'),\n",
       " AIMessage(content='I understand that you\\'re asking me to define \"langgraph\". However, I don\\'t have any information about what \"langgraph\" means or what it represents. Could you please provide more context or clarify what you mean by \"langgraph\"? This will help me better understand your question and provide a more accurate response.', additional_kwargs={}, response_metadata={'token_usage': {'completion_tokens': 65, 'prompt_tokens': 2191, 'total_tokens': 2256, 'completion_time': 0.089202153, 'prompt_time': 0.243193802, 'queue_time': 0.272140528, 'total_time': 0.332395955}, 'model_name': 'llama3-8b-8192', 'system_fingerprint': 'fp_8af39bf2ae', 'finish_reason': 'stop', 'logprobs': None}, id='run--3a603ae4-f91a-4487-9678-020322da3f45-0', usage_metadata={'input_tokens': 2191, 'output_tokens': 65, 'total_tokens': 2256})]"
      ]
     },
     "execution_count": 26,
     "metadata": {},
     "output_type": "execute_result"
    }
   ],
   "source": [
    "response[\"messages\"] #no tool call"
   ]
  },
  {
   "cell_type": "code",
   "execution_count": 14,
   "id": "f6091d6a",
   "metadata": {},
   "outputs": [
    {
     "name": "stdout",
     "output_type": "stream",
     "text": [
      "================================\u001b[1m Human Message \u001b[0m=================================\n",
      "\n",
      "define langgraph\n",
      "==================================\u001b[1m Ai Message \u001b[0m==================================\n",
      "\n",
      "Based on the provided tool definitions, I will define the \"langgraph\" tool.\n",
      "\n",
      "```json\n",
      "{\n",
      "    \"type\": \"function\",\n",
      "    \"function\": {\n",
      "        \"name\": \"langgraph\",\n",
      "        \"description\": \"Generate a language graph for a given text or query.\",\n",
      "        \"parameters\": {\n",
      "            \"properties\": {\n",
      "                \"text\": {\n",
      "                    \"description\": \"The text or query to generate a language graph for.\",\n",
      "                    \"type\": \"string\"\n",
      "                }\n",
      "            },\n",
      "            \"required\": [\n",
      "                \"text\"\n",
      "            ],\n",
      "            \"type\": \"object\"\n",
      "        }\n",
      "    }\n",
      "}\n",
      "```\n",
      "\n",
      "This tool takes a text or query as input and generates a language graph.\n"
     ]
    }
   ],
   "source": [
    "for m in response[\"messages\"]:\n",
    "    m.pretty_print()"
   ]
  },
  {
   "cell_type": "code",
   "execution_count": 15,
   "id": "e6570c6a",
   "metadata": {},
   "outputs": [],
   "source": [
    "response=graph.invoke({\"messages\":\"what is 5 multiplied by 2 and then multiplied by 10\"}) "
   ]
  },
  {
   "cell_type": "code",
   "execution_count": 16,
   "id": "a7731718",
   "metadata": {},
   "outputs": [
    {
     "name": "stdout",
     "output_type": "stream",
     "text": [
      "================================\u001b[1m Human Message \u001b[0m=================================\n",
      "\n",
      "what is 5 multiplied by 2 and then multiplied by 10\n",
      "==================================\u001b[1m Ai Message \u001b[0m==================================\n",
      "Tool Calls:\n",
      "  multiply (k8x7y3afn)\n",
      " Call ID: k8x7y3afn\n",
      "  Args:\n",
      "    a: 5\n",
      "    b: 2\n",
      "  multiply (85qxexgyz)\n",
      " Call ID: 85qxexgyz\n",
      "  Args:\n",
      "    a: 10\n",
      "    b: 20\n",
      "=================================\u001b[1m Tool Message \u001b[0m=================================\n",
      "Name: multiply\n",
      "\n",
      "10\n",
      "=================================\u001b[1m Tool Message \u001b[0m=================================\n",
      "Name: multiply\n",
      "\n",
      "200\n"
     ]
    }
   ],
   "source": [
    "for m in response[\"messages\"]:\n",
    "    m.pretty_print()"
   ]
  },
  {
   "cell_type": "code",
   "execution_count": 17,
   "id": "62187343",
   "metadata": {},
   "outputs": [],
   "source": [
    "response=graph.invoke({\"messages\":\"what is 5 multiplied by 2 and then multiplied by 10 and then give recent ai news\"}) "
   ]
  },
  {
   "cell_type": "code",
   "execution_count": 18,
   "id": "a7252298",
   "metadata": {},
   "outputs": [
    {
     "name": "stdout",
     "output_type": "stream",
     "text": [
      "================================\u001b[1m Human Message \u001b[0m=================================\n",
      "\n",
      "what is 5 multiplied by 2 and then multiplied by 10 and then give recent ai news\n",
      "==================================\u001b[1m Ai Message \u001b[0m==================================\n",
      "Tool Calls:\n",
      "  multiply (58aa1tzrw)\n",
      " Call ID: 58aa1tzrw\n",
      "  Args:\n",
      "    a: 5\n",
      "    b: 2\n",
      "  multiply (ggx5jbga3)\n",
      " Call ID: ggx5jbga3\n",
      "  Args:\n",
      "    a: 10\n",
      "    b: 20\n",
      "  tavily_search (1mex1k3gs)\n",
      " Call ID: 1mex1k3gs\n",
      "  Args:\n",
      "    query: recent ai news\n",
      "=================================\u001b[1m Tool Message \u001b[0m=================================\n",
      "Name: multiply\n",
      "\n",
      "10\n",
      "=================================\u001b[1m Tool Message \u001b[0m=================================\n",
      "Name: multiply\n",
      "\n",
      "200\n",
      "=================================\u001b[1m Tool Message \u001b[0m=================================\n",
      "Name: tavily_search\n",
      "\n",
      "{\"query\": \"recent ai news\", \"follow_up_questions\": null, \"answer\": null, \"images\": [], \"results\": [{\"title\": \"AI News | Latest Headlines and Developments | Reuters\", \"url\": \"https://www.reuters.com/technology/artificial-intelligence/\", \"content\": \"How Artificial Intelligence is creating the next normal. Information you can trust. Reuters, the news and media division of Thomson Reuters, is the world's largest multimedia news provider\", \"score\": 0.59033114, \"raw_content\": null}, {\"title\": \"AI News & Artificial Intelligence | TechCrunch\", \"url\": \"https://techcrunch.com/category/artificial-intelligence/\", \"content\": \"News coverage on artificial intelligence and machine learning tech, the companies building them, and the ethical issues AI raises today. This encompasses generative AI, including large language\", \"score\": 0.5450684, \"raw_content\": null}], \"response_time\": 1.44}\n"
     ]
    }
   ],
   "source": [
    "for m in response[\"messages\"]:\n",
    "    m.pretty_print()"
   ]
  },
  {
   "cell_type": "markdown",
   "id": "a5946d87",
   "metadata": {},
   "source": [
    "***ReACT agent Architecture***"
   ]
  },
  {
   "cell_type": "code",
   "execution_count": 28,
   "id": "2565309b",
   "metadata": {},
   "outputs": [
    {
     "data": {
      "image/png": "[encoded data removed]",
      "text/plain": [
       "<IPython.core.display.Image object>"
      ]
     },
     "metadata": {},
     "output_type": "display_data"
    }
   ],
   "source": [
    "## Stategraph\n",
    "from langgraph.graph import StateGraph,START,END\n",
    "from langgraph.prebuilt import ToolNode\n",
    "from langgraph.prebuilt import tools_condition\n",
    "\n",
    "## Node definition\n",
    "def tool_calling_llm(state:State):\n",
    "    return {\"messages\":[llm_with_tool.invoke(state[\"messages\"])]}\n",
    "\n",
    "## Grpah\n",
    "builder=StateGraph(State)\n",
    "builder.add_node(\"tool_calling_llm\",tool_calling_llm)\n",
    "builder.add_node(\"tools\",ToolNode(tools))\n",
    "\n",
    "## Add Edges\n",
    "builder.add_edge(START, \"tool_calling_llm\")\n",
    "builder.add_conditional_edges(\n",
    "    \"tool_calling_llm\",\n",
    "    # If the latest message (result) from assistant is a tool call -> tools_condition routes to tools\n",
    "    # If the latest message (result) from assistant is a not a tool call -> tools_condition routes to END\n",
    "    tools_condition\n",
    ")\n",
    "# builder.add_edge(\"tools\",\"tool_calling_llm\")\n",
    "builder.add_edge(\"tools\",END)\n",
    "\n",
    "## compile the graph\n",
    "graph=builder.compile()\n",
    "\n",
    "from IPython.display import Image, display\n",
    "display(Image(graph.get_graph().draw_mermaid_png()))"
   ]
  },
  {
   "cell_type": "code",
   "execution_count": 29,
   "id": "ed97c002",
   "metadata": {},
   "outputs": [],
   "source": [
    "response=graph.invoke({\"messages\":\"give recent ai news and then multiply 5 by 2\"}) "
   ]
  },
  {
   "cell_type": "code",
   "execution_count": 31,
   "id": "390d1cb0",
   "metadata": {},
   "outputs": [
    {
     "data": {
      "text/plain": [
       "[HumanMessage(content='give recent ai news and then multiply 5 by 2', additional_kwargs={}, response_metadata={}, id='77fa1f2a-2dcd-4f8a-9ebc-ecb522d9d2a6'),\n",
       " AIMessage(content='', additional_kwargs={'tool_calls': [{'id': '9g8nyhvdw', 'function': {'arguments': '{\"query\":\"recent ai news\",\"search_depth\":\"advanced\",\"time_range\":\"day\",\"topic\":\"news\"}', 'name': 'tavily_search'}, 'type': 'function'}, {'id': 'dfxg5xwhy', 'function': {'arguments': '{\"a\":5,\"b\":2}', 'name': 'multiply'}, 'type': 'function'}, {'id': '766grg5c6', 'function': {'arguments': '{\"a\":5,\"b\":2}', 'name': 'multiply'}, 'type': 'function'}]}, response_metadata={'token_usage': {'completion_tokens': 223, 'prompt_tokens': 2200, 'total_tokens': 2423, 'completion_time': 0.246531115, 'prompt_time': 0.243920185, 'queue_time': 0.27516355299999995, 'total_time': 0.4904513}, 'model_name': 'llama3-8b-8192', 'system_fingerprint': 'fp_8b7c3a83f7', 'finish_reason': 'tool_calls', 'logprobs': None}, id='run--95b8074c-395e-4b99-89aa-555ee06def5d-0', tool_calls=[{'name': 'tavily_search', 'args': {'query': 'recent ai news', 'search_depth': 'advanced', 'time_range': 'day', 'topic': 'news'}, 'id': '9g8nyhvdw', 'type': 'tool_call'}, {'name': 'multiply', 'args': {'a': 5, 'b': 2}, 'id': 'dfxg5xwhy', 'type': 'tool_call'}, {'name': 'multiply', 'args': {'a': 5, 'b': 2}, 'id': '766grg5c6', 'type': 'tool_call'}], usage_metadata={'input_tokens': 2200, 'output_tokens': 223, 'total_tokens': 2423}),\n",
       " ToolMessage(content='{\"query\": \"recent ai news\", \"follow_up_questions\": null, \"answer\": null, \"images\": [], \"results\": [{\"url\": \"https://glassalmanac.com/ibm-laid-off-8000-employees-to-replace-them-with-ai-what-they-didnt-expect-was-having-to-rehire-as-many-due-to-ai/\", \"title\": \"IBM laid off 8,000 employees to replace them with AI—what they didn’t expect was having to rehire as many due to AI - Glass Almanac\", \"score\": 0.6937432, \"published_date\": \"Sat, 21 Jun 2025 13:30:21 GMT\", \"content\": \"4.   “Duolingo’s chatbot experiment,” _TechCrunch_, 2023. Available at: \\\\n\\\\n5.   “AI’s impact on job creation and automation,” _Harvard Business Review_, 2023. Available at: \\\\n\\\\n6.   “IBM’s automation strategy: A success story,” _Wall Street Journal_, 2024. Available at: \\\\n\\\\n7.   “Automation and Human Workforce Synergy,” _Financial Times_, 2024. Available at: \\\\n\\\\nSimilar Posts\\\\n------------- [...] IBM’s journey illustrates that AI is not just about cutting costs—it’s about evolving business models, reallocating human resources, and reinventing the nature of work itself【⁷】.\\\\n\\\\n### Footnotes:\\\\n\\\\n1.   “IBM 2023 layoff announcement,” _BBC News_, 2023. Available at: \\\\n\\\\n2.   “How IBM’s AI-driven chatbot transformed HR,” _The Guardian_, 2024. Available at: \\\\n\\\\n3.   “The World Economic Forum’s 2023 job displacement report,” _World Economic Forum_, 2023. Available at:\", \"raw_content\": null}, {\"url\": \"https://www.foxnews.com/tech/ai-newsletter-amazon-cut-workforce-due-new-tech\", \"title\": \"Fox News AI Newsletter: Amazon to cut workforce due to new tech - Fox News\", \"score\": 0.6609831, \"published_date\": \"Sat, 21 Jun 2025 12:30:31 GMT\", \"content\": \"Right Arrow\\\\n\\\\nArtificial Intelligence Newsletter\\\\nFox News AI Newsletter: Amazon to cut workforce due to new tech\\\\n===============================================================\\\\n\\\\nStay up to date on the latest AI technology advancements and learn about the challenges and opportunities AI presents\\\\n---------------------------------------------------------------------------------------------------------------------\\\\n\\\\n By Fox News StaffFox News\\\\n\\\\n Published  June 21, 2025 8:30am EDT [...] - OpenAI CEO claims Meta offering $100 million to poach employees\\\\n\\\\n- America\\'s power grid faces unprecedented challenge as AI and crypto drive demand skyward\\\\n\\\\nTECH TAKEOVER: Amazon CEO Andy Jassy says artificial intelligence will \\\\\"change the way\\\\\" work is done and expects the company\\'s total corporate workforce to be reduced as a result. [...] ROBOT RUMBLE:Robot combat just got a lot more interesting in Hangzhou, China. Four Unitree G1 robots, each steered by a human operator, went head-to-head in a tournament called Unitree Iron Fist King: Awakening!\\\\n\\\\nImage 23: robot boxing 1\\\\n\\\\nUnitree Iron Fist King: Awakening!(CGTN)\\\\n\\\\nAI EYEWEAR: Tech giant Meta on Friday announced it is partnering with Oakley to launch new performance glasses powered byartificial intelligence.\", \"raw_content\": null}], \"response_time\": 1.51}', name='tavily_search', id='ea475855-38d6-4643-b2d5-7460be030db5', tool_call_id='9g8nyhvdw'),\n",
       " ToolMessage(content='10', name='multiply', id='02bd46e0-145e-4892-89b9-3ca8fa4a4c89', tool_call_id='dfxg5xwhy'),\n",
       " ToolMessage(content='10', name='multiply', id='8a7d08a2-e97d-4be1-ab1d-ba8e55dc913f', tool_call_id='766grg5c6')]"
      ]
     },
     "execution_count": 31,
     "metadata": {},
     "output_type": "execute_result"
    }
   ],
   "source": [
    "response[\"messages\"]"
   ]
  },
  {
   "cell_type": "code",
   "execution_count": 32,
   "id": "1abee827",
   "metadata": {},
   "outputs": [
    {
     "name": "stdout",
     "output_type": "stream",
     "text": [
      "================================\u001b[1m Human Message \u001b[0m=================================\n",
      "\n",
      "give recent ai news and then multiply 5 by 2\n",
      "==================================\u001b[1m Ai Message \u001b[0m==================================\n",
      "Tool Calls:\n",
      "  tavily_search (9g8nyhvdw)\n",
      " Call ID: 9g8nyhvdw\n",
      "  Args:\n",
      "    query: recent ai news\n",
      "    search_depth: advanced\n",
      "    time_range: day\n",
      "    topic: news\n",
      "  multiply (dfxg5xwhy)\n",
      " Call ID: dfxg5xwhy\n",
      "  Args:\n",
      "    a: 5\n",
      "    b: 2\n",
      "  multiply (766grg5c6)\n",
      " Call ID: 766grg5c6\n",
      "  Args:\n",
      "    a: 5\n",
      "    b: 2\n",
      "=================================\u001b[1m Tool Message \u001b[0m=================================\n",
      "Name: tavily_search\n",
      "\n",
      "{\"query\": \"recent ai news\", \"follow_up_questions\": null, \"answer\": null, \"images\": [], \"results\": [{\"url\": \"https://glassalmanac.com/ibm-laid-off-8000-employees-to-replace-them-with-ai-what-they-didnt-expect-was-having-to-rehire-as-many-due-to-ai/\", \"title\": \"IBM laid off 8,000 employees to replace them with AI—what they didn’t expect was having to rehire as many due to AI - Glass Almanac\", \"score\": 0.6937432, \"published_date\": \"Sat, 21 Jun 2025 13:30:21 GMT\", \"content\": \"4.   “Duolingo’s chatbot experiment,” _TechCrunch_, 2023. Available at: \\n\\n5.   “AI’s impact on job creation and automation,” _Harvard Business Review_, 2023. Available at: \\n\\n6.   “IBM’s automation strategy: A success story,” _Wall Street Journal_, 2024. Available at: \\n\\n7.   “Automation and Human Workforce Synergy,” _Financial Times_, 2024. Available at: \\n\\nSimilar Posts\\n------------- [...] IBM’s journey illustrates that AI is not just about cutting costs—it’s about evolving business models, reallocating human resources, and reinventing the nature of work itself【⁷】.\\n\\n### Footnotes:\\n\\n1.   “IBM 2023 layoff announcement,” _BBC News_, 2023. Available at: \\n\\n2.   “How IBM’s AI-driven chatbot transformed HR,” _The Guardian_, 2024. Available at: \\n\\n3.   “The World Economic Forum’s 2023 job displacement report,” _World Economic Forum_, 2023. Available at:\", \"raw_content\": null}, {\"url\": \"https://www.foxnews.com/tech/ai-newsletter-amazon-cut-workforce-due-new-tech\", \"title\": \"Fox News AI Newsletter: Amazon to cut workforce due to new tech - Fox News\", \"score\": 0.6609831, \"published_date\": \"Sat, 21 Jun 2025 12:30:31 GMT\", \"content\": \"Right Arrow\\n\\nArtificial Intelligence Newsletter\\nFox News AI Newsletter: Amazon to cut workforce due to new tech\\n===============================================================\\n\\nStay up to date on the latest AI technology advancements and learn about the challenges and opportunities AI presents\\n---------------------------------------------------------------------------------------------------------------------\\n\\n By Fox News StaffFox News\\n\\n Published  June 21, 2025 8:30am EDT [...] - OpenAI CEO claims Meta offering $100 million to poach employees\\n\\n- America's power grid faces unprecedented challenge as AI and crypto drive demand skyward\\n\\nTECH TAKEOVER: Amazon CEO Andy Jassy says artificial intelligence will \\\"change the way\\\" work is done and expects the company's total corporate workforce to be reduced as a result. [...] ROBOT RUMBLE:Robot combat just got a lot more interesting in Hangzhou, China. Four Unitree G1 robots, each steered by a human operator, went head-to-head in a tournament called Unitree Iron Fist King: Awakening!\\n\\nImage 23: robot boxing 1\\n\\nUnitree Iron Fist King: Awakening!(CGTN)\\n\\nAI EYEWEAR: Tech giant Meta on Friday announced it is partnering with Oakley to launch new performance glasses powered byartificial intelligence.\", \"raw_content\": null}], \"response_time\": 1.51}\n",
      "=================================\u001b[1m Tool Message \u001b[0m=================================\n",
      "Name: multiply\n",
      "\n",
      "10\n",
      "=================================\u001b[1m Tool Message \u001b[0m=================================\n",
      "Name: multiply\n",
      "\n",
      "10\n"
     ]
    }
   ],
   "source": [
    "for m in response[\"messages\"]:\n",
    "    m.pretty_print()"
   ]
  },
  {
   "cell_type": "markdown",
   "id": "9ac96ef9",
   "metadata": {},
   "source": [
    "ai : llm----->tavily---->end\n",
    "mult : llm------>multiplication tool--->end\n"
   ]
  },
  {
   "cell_type": "code",
   "execution_count": 40,
   "id": "0e938c26",
   "metadata": {},
   "outputs": [
    {
     "data": {
      "image/png": "[encoded data removed]",
      "text/plain": [
       "<IPython.core.display.Image object>"
      ]
     },
     "metadata": {},
     "output_type": "display_data"
    }
   ],
   "source": [
    "## Stategraph\n",
    "from langgraph.graph import StateGraph,START,END\n",
    "from langgraph.prebuilt import ToolNode\n",
    "from langgraph.prebuilt import tools_condition\n",
    "\n",
    "## Node definition\n",
    "def tool_calling_llm(state:State):\n",
    "    return {\"messages\":[llm_with_tool.invoke(state[\"messages\"])]}\n",
    "\n",
    "## Grpah\n",
    "builder=StateGraph(State)\n",
    "builder.add_node(\"tool_calling_llm\",tool_calling_llm)\n",
    "builder.add_node(\"tools\",ToolNode(tools))\n",
    "\n",
    "## Add Edges\n",
    "builder.add_edge(START, \"tool_calling_llm\")\n",
    "builder.add_conditional_edges(\n",
    "    \"tool_calling_llm\",\n",
    "    # If the latest message (result) from assistant is a tool call -> tools_condition routes to tools\n",
    "    # If the latest message (result) from assistant is a not a tool call -> tools_condition routes to END\n",
    "    tools_condition\n",
    ")\n",
    "builder.add_edge(\"tools\",\"tool_calling_llm\")\n",
    "# builder.add_edge(\"tools\",END)\n",
    "\n",
    "## compile the graph\n",
    "graph=builder.compile()\n",
    "\n",
    "from IPython.display import Image, display\n",
    "display(Image(graph.get_graph().draw_mermaid_png()))"
   ]
  },
  {
   "cell_type": "code",
   "execution_count": 41,
   "id": "032eb2a6",
   "metadata": {},
   "outputs": [],
   "source": [
    "response=graph.invoke({\"messages\":\"give recent ai news and then multiply 5 by 2\"}) "
   ]
  },
  {
   "cell_type": "code",
   "execution_count": 42,
   "id": "ba5233a9",
   "metadata": {},
   "outputs": [
    {
     "name": "stdout",
     "output_type": "stream",
     "text": [
      "================================\u001b[1m Human Message \u001b[0m=================================\n",
      "\n",
      "give recent ai news and then multiply 5 by 2\n",
      "==================================\u001b[1m Ai Message \u001b[0m==================================\n",
      "Tool Calls:\n",
      "  tavily_search (xnapbn54s)\n",
      " Call ID: xnapbn54s\n",
      "  Args:\n",
      "    query: AI news\n",
      "    search_depth: advanced\n",
      "    time_range: week\n",
      "  multiply (5aex9b4dg)\n",
      " Call ID: 5aex9b4dg\n",
      "  Args:\n",
      "    a: 5\n",
      "    b: 2\n",
      "  multiply (npqqa1eby)\n",
      " Call ID: npqqa1eby\n",
      "  Args:\n",
      "    a: 5\n",
      "    b: 2\n",
      "=================================\u001b[1m Tool Message \u001b[0m=================================\n",
      "Name: tavily_search\n",
      "\n",
      "{\"query\": \"AI news\", \"follow_up_questions\": null, \"answer\": null, \"images\": [], \"results\": [{\"url\": \"https://www.artificialintelligence-news.com/\", \"title\": \"AI News | Latest AI News, Analysis & Events\", \"content\": \"Accept Deny View preferences Save preferences[View preferences](https://www.artificialintelligence-news.com/cookie-policy-uk/#cmplz-manage-consent-container)\\n\\n[Cookie Policy](https://www.artificialintelligence-news.com/cookie-policy-uk/)[Privacy Policy](https://www.artificialintelligence-news.com/privacy-policy/)[{title}](https://www.artificialintelligence-news.com/#)\\n\\n[Skip to content](https://www.artificialintelligence-news.com/#content)\\n\\nAI News is part of the TechForge Publications series [...] [Artificial Intelligence](https://www.artificialintelligence-news.com/categories/artificial-intelligence/)\\n\\nJanuary 20, 2025\\n\\n[![Image 26](https://www.artificialintelligence-news.com/wp-content/uploads/2025/04/Picture1-1.jpg)](https://www.gdecexpo.com/index_en.html?tgfrom=zh_ainews)\\n\\n[![Image 27](https://www.artificialintelligence-news.com/wp-content/uploads/2025/06/1200x600-1024x512.jpg)](https://www.saudi.smartdataseries.com/)\\n\\nSubscribe\\n--------- [...] *   [News](https://www.artificialintelligence-news.com/artificial-intelligence-news/)\\n*   [Categories](https://www.artificialintelligence-news.com/#)\\n    *   [AGI](https://www.artificialintelligence-news.com/categories/agi/)\\n    *   [Applications](https://www.artificialintelligence-news.com/categories/ai-applications/)\\n        *   [Chatbots](https://www.artificialintelligence-news.com/categories/ai-applications/ai-chatbots/)\", \"score\": 0.82425016, \"raw_content\": null}], \"response_time\": 1.48}\n",
      "=================================\u001b[1m Tool Message \u001b[0m=================================\n",
      "Name: multiply\n",
      "\n",
      "10\n",
      "=================================\u001b[1m Tool Message \u001b[0m=================================\n",
      "Name: multiply\n",
      "\n",
      "10\n",
      "==================================\u001b[1m Ai Message \u001b[0m==================================\n",
      "\n",
      "<tool-use></tool-use>\n"
     ]
    }
   ],
   "source": [
    "for m in response[\"messages\"]:\n",
    "    m.pretty_print()"
   ]
  },
  {
   "cell_type": "markdown",
   "id": "7de83471",
   "metadata": {},
   "source": [
    "ai  : llm---->tool---->llm,\n",
    "mult : llm---->tool----->llm"
   ]
  },
  {
   "cell_type": "markdown",
   "id": "7304d873",
   "metadata": {},
   "source": [
    "***ADDING MEMORY IN LangGraph***"
   ]
  },
  {
   "cell_type": "code",
   "execution_count": 43,
   "id": "835b03f1",
   "metadata": {},
   "outputs": [
    {
     "name": "stdout",
     "output_type": "stream",
     "text": [
      "================================\u001b[1m Human Message \u001b[0m=================================\n",
      "\n",
      "My name is Akshay\n",
      "==================================\u001b[1m Ai Message \u001b[0m==================================\n",
      "\n",
      "Nice to meet you, Akshay! I'm here to help you with any questions or tasks you may have. Please feel free to ask me anything or provide some input, and I'll do my best to assist you.\n"
     ]
    }
   ],
   "source": [
    "response=graph.invoke({\"messages\":\"My name is Akshay\"}) \n",
    "for m in response[\"messages\"]:\n",
    "    m.pretty_print()"
   ]
  },
  {
   "cell_type": "code",
   "execution_count": 44,
   "id": "f2b3b2d6",
   "metadata": {},
   "outputs": [
    {
     "name": "stdout",
     "output_type": "stream",
     "text": [
      "================================\u001b[1m Human Message \u001b[0m=================================\n",
      "\n",
      "What is my name?\n",
      "==================================\u001b[1m Ai Message \u001b[0m==================================\n",
      "\n",
      "I'm happy to help you with that!\n",
      "\n",
      "To provide a helpful response, I would like to clarify that you haven't provided any specific information about yourself that would allow me to identify your name. Could you please provide more context or details about your question?\n",
      "\n",
      "If you're asking about your name in a different context, please let me know and I'll do my best to assist you.\n",
      "\n",
      "Here's a possible response:\n",
      "\n",
      "\"I'm happy to help you with that! However, I don't have any information about your name. Could you please provide more context or details about your question?\"\n"
     ]
    }
   ],
   "source": [
    "response=graph.invoke({\"messages\":\"What is my name?\"}) \n",
    "for m in response[\"messages\"]:\n",
    "    m.pretty_print()"
   ]
  },
  {
   "cell_type": "markdown",
   "id": "8e457fe7",
   "metadata": {},
   "source": [
    "adding memory"
   ]
  },
  {
   "cell_type": "code",
   "execution_count": 52,
   "id": "37d7be95",
   "metadata": {},
   "outputs": [
    {
     "data": {
      "image/png": "[encoded data removed]",
      "text/plain": [
       "<IPython.core.display.Image object>"
      ]
     },
     "metadata": {},
     "output_type": "display_data"
    }
   ],
   "source": [
    "## Stategraph\n",
    "from langgraph.graph import StateGraph,START,END\n",
    "from langgraph.prebuilt import ToolNode\n",
    "from langgraph.prebuilt import tools_condition\n",
    "from langgraph.checkpoint.memory import MemorySaver\n",
    "\n",
    "memory=MemorySaver()\n",
    "## Node definition\n",
    "def tool_calling_llm(state:State):\n",
    "    return {\"messages\":[llm_with_tool.invoke(state[\"messages\"])]}\n",
    "\n",
    "## Grpah\n",
    "builder=StateGraph(State)\n",
    "builder.add_node(\"tool_calling_llm\",tool_calling_llm)\n",
    "builder.add_node(\"tools\",ToolNode(tools))\n",
    "\n",
    "## Add Edges\n",
    "builder.add_edge(START, \"tool_calling_llm\")\n",
    "builder.add_conditional_edges(\n",
    "    \"tool_calling_llm\",\n",
    "    # If the latest message (result) from assistant is a tool call -> tools_condition routes to tools\n",
    "    # If the latest message (result) from assistant is a not a tool call -> tools_condition routes to END\n",
    "    tools_condition\n",
    ")\n",
    "builder.add_edge(\"tools\",\"tool_calling_llm\")\n",
    "# builder.add_edge(\"tools\",END)\n",
    "\n",
    "## compile the graph\n",
    "graph=builder.compile(checkpointer=memory)  #adding memory\n",
    "\n",
    "from IPython.display import Image, display\n",
    "display(Image(graph.get_graph().draw_mermaid_png()))"
   ]
  },
  {
   "cell_type": "code",
   "execution_count": 53,
   "id": "b42e7d9d",
   "metadata": {},
   "outputs": [
    {
     "name": "stdout",
     "output_type": "stream",
     "text": [
      "================================\u001b[1m Human Message \u001b[0m=================================\n",
      "\n",
      "My name is Akshay\n",
      "==================================\u001b[1m Ai Message \u001b[0m==================================\n",
      "\n",
      "Nice to meet you, Akshay!\n"
     ]
    }
   ],
   "source": [
    "config={\"configurable\":{\"thread_id\":\"1\"}}\n",
    "response=graph.invoke({\"messages\":\"My name is Akshay\"},config=config)\n",
    "for m in response[\"messages\"]:\n",
    "    m.pretty_print()"
   ]
  },
  {
   "cell_type": "code",
   "execution_count": 54,
   "id": "99218b8c",
   "metadata": {},
   "outputs": [
    {
     "name": "stdout",
     "output_type": "stream",
     "text": [
      "================================\u001b[1m Human Message \u001b[0m=================================\n",
      "\n",
      "My name is Akshay\n",
      "==================================\u001b[1m Ai Message \u001b[0m==================================\n",
      "\n",
      "Nice to meet you, Akshay!\n",
      "================================\u001b[1m Human Message \u001b[0m=================================\n",
      "\n",
      "What is my name\n",
      "==================================\u001b[1m Ai Message \u001b[0m==================================\n",
      "Tool Calls:\n",
      "  tavily_search (5xtp40qw9)\n",
      " Call ID: 5xtp40qw9\n",
      "  Args:\n",
      "    query: What is my name\n",
      "=================================\u001b[1m Tool Message \u001b[0m=================================\n",
      "Name: tavily_search\n",
      "\n",
      "{\"query\": \"What is my name\", \"follow_up_questions\": null, \"answer\": null, \"images\": [], \"results\": [{\"title\": \"What Does My Name Mean? The Meaning Of Names\", \"url\": \"https://www.names.org/\", \"content\": \"Names.org is a website that helps you discover the meaning, origin, popularity, and trends of your name. You can search by first name, last name, full name, or baby name, and explore various lists and categories of names.\", \"score\": 0.33157462, \"raw_content\": null}, {\"title\": \"How Rare is My Name? - How Many of Me\", \"url\": \"https://howmanyofme.name/how-rare-is-my-name/\", \"content\": \"How Rare is My Name? *   How Rare is My Name How Rare is My Name? How Rare is My Name ### **How Rare is My Name?** Very often last names like _Smith_, _Johnson_, or _Williams_ dominate the U.S., while rare surnames can hint at a unique family lineage or recent immigration. While your first or last name might be shared by thousands of people, the specific combination of both could make your full name rare in the U.S. Full-name analysis tools provide fascinating statistics on how many individuals share your exact name and offer insights into its uniqueness. ### **Why do People Have Rare Names?** Some people choose rare names because they want to be unique or stand out from the crowd.\", \"score\": 0.18064119, \"raw_content\": null}], \"response_time\": 1.43}\n",
      "==================================\u001b[1m Ai Message \u001b[0m==================================\n",
      "Tool Calls:\n",
      "  multiply (ztpqx2a5v)\n",
      " Call ID: ztpqx2a5v\n",
      "  Args:\n",
      "    a: 0\n",
      "    b: 0\n",
      "  multiply (2zcxgndhv)\n",
      " Call ID: 2zcxgndhv\n",
      "  Args:\n",
      "    a: 0\n",
      "    b: 0\n",
      "  multiply (3rdzt376x)\n",
      " Call ID: 3rdzt376x\n",
      "  Args:\n",
      "    a: 0\n",
      "    b: 0\n",
      "=================================\u001b[1m Tool Message \u001b[0m=================================\n",
      "Name: multiply\n",
      "\n",
      "0\n",
      "=================================\u001b[1m Tool Message \u001b[0m=================================\n",
      "Name: multiply\n",
      "\n",
      "0\n",
      "=================================\u001b[1m Tool Message \u001b[0m=================================\n",
      "Name: multiply\n",
      "\n",
      "0\n",
      "==================================\u001b[1m Ai Message \u001b[0m==================================\n",
      "\n",
      "Your name is Akshay!\n"
     ]
    }
   ],
   "source": [
    "response=graph.invoke({\"messages\":\"What is my name\"},config=config)\n",
    "for m in response[\"messages\"]:\n",
    "    m.pretty_print()"
   ]
  },
  {
   "cell_type": "code",
   "execution_count": 55,
   "id": "a59f7c9b",
   "metadata": {},
   "outputs": [
    {
     "data": {
      "text/plain": [
       "'Your name is Akshay!'"
      ]
     },
     "execution_count": 55,
     "metadata": {},
     "output_type": "execute_result"
    }
   ],
   "source": [
    "response[\"messages\"][-1].content"
   ]
  },
  {
   "cell_type": "markdown",
   "id": "21d6f091",
   "metadata": {},
   "source": [
    "***Streaming***"
   ]
  },
  {
   "cell_type": "code",
   "execution_count": 57,
   "id": "1552ceab",
   "metadata": {},
   "outputs": [],
   "source": [
    "from langgraph.checkpoint.memory import MemorySaver\n",
    "memory=MemorySaver()"
   ]
  },
  {
   "cell_type": "code",
   "execution_count": 62,
   "id": "e488e03a",
   "metadata": {},
   "outputs": [],
   "source": [
    "def superbot(state:State):\n",
    "    return {\"messages\",{llm.invoke(state[\"messages\"])}}"
   ]
  },
  {
   "cell_type": "code",
   "execution_count": 63,
   "id": "c250c2cc",
   "metadata": {},
   "outputs": [
    {
     "data": {
      "image/png": "[encoded data removed]",
      "text/plain": [
       "<IPython.core.display.Image object>"
      ]
     },
     "metadata": {},
     "output_type": "display_data"
    }
   ],
   "source": [
    "graph=StateGraph(State)\n",
    "graph.add_node(\"Superbot\",superbot)\n",
    "graph.add_edge(START,\"Superbot\")\n",
    "graph.add_edge(\"Superbot\",END)\n",
    "\n",
    "graph_builder=graph.compile(checkpointer=memory)\n",
    "## Display\n",
    "from IPython.display import Image, display\n",
    "display(Image(graph_builder.get_graph().draw_mermaid_png()))\n"
   ]
  },
  {
   "cell_type": "code",
   "execution_count": null,
   "id": "cd74b331",
   "metadata": {},
   "outputs": [],
   "source": [
    "config={\"configurable\":{\"thread_id\":\"1\"}}\n",
    "response=graph_builder.invoke({\"messages\":\"hi,My name is Akshay and i like cricket\"},config=config)\n"
   ]
  },
  {
   "cell_type": "code",
   "execution_count": 66,
   "id": "5f2f862f",
   "metadata": {},
   "outputs": [
    {
     "ename": "TypeError",
     "evalue": "unhashable type: 'AIMessage'",
     "output_type": "error",
     "traceback": [
      "\u001b[1;31m---------------------------------------------------------------------------\u001b[0m",
      "\u001b[1;31mTypeError\u001b[0m                                 Traceback (most recent call last)",
      "Cell \u001b[1;32mIn[66], line 4\u001b[0m\n\u001b[0;32m      1\u001b[0m \u001b[38;5;66;03m# Create a thread\u001b[39;00m\n\u001b[0;32m      2\u001b[0m config \u001b[38;5;241m=\u001b[39m {\u001b[38;5;124m\"\u001b[39m\u001b[38;5;124mconfigurable\u001b[39m\u001b[38;5;124m\"\u001b[39m: {\u001b[38;5;124m\"\u001b[39m\u001b[38;5;124mthread_id\u001b[39m\u001b[38;5;124m\"\u001b[39m: \u001b[38;5;124m\"\u001b[39m\u001b[38;5;124m3\u001b[39m\u001b[38;5;124m\"\u001b[39m}}\n\u001b[1;32m----> 4\u001b[0m \u001b[38;5;28;43;01mfor\u001b[39;49;00m\u001b[43m \u001b[49m\u001b[43mchunk\u001b[49m\u001b[43m \u001b[49m\u001b[38;5;129;43;01min\u001b[39;49;00m\u001b[43m \u001b[49m\u001b[43mgraph_builder\u001b[49m\u001b[38;5;241;43m.\u001b[39;49m\u001b[43mstream\u001b[49m\u001b[43m(\u001b[49m\u001b[43m{\u001b[49m\u001b[38;5;124;43m'\u001b[39;49m\u001b[38;5;124;43mmessages\u001b[39;49m\u001b[38;5;124;43m'\u001b[39;49m\u001b[43m:\u001b[49m\u001b[38;5;124;43m\"\u001b[39;49m\u001b[38;5;124;43mHi,My name is Krish And I like cricket\u001b[39;49m\u001b[38;5;124;43m\"\u001b[39;49m\u001b[43m}\u001b[49m\u001b[43m,\u001b[49m\u001b[43mconfig\u001b[49m\u001b[43m,\u001b[49m\u001b[43mstream_mode\u001b[49m\u001b[38;5;241;43m=\u001b[39;49m\u001b[38;5;124;43m\"\u001b[39;49m\u001b[38;5;124;43mupdates\u001b[39;49m\u001b[38;5;124;43m\"\u001b[39;49m\u001b[43m)\u001b[49m\u001b[43m:\u001b[49m\n\u001b[0;32m      5\u001b[0m \u001b[43m    \u001b[49m\u001b[38;5;28;43mprint\u001b[39;49m\u001b[43m(\u001b[49m\u001b[43mchunk\u001b[49m\u001b[43m)\u001b[49m\n",
      "File \u001b[1;32mc:\\Users\\ranga\\AppData\\Local\\Programs\\Python\\Python311\\Lib\\site-packages\\langgraph\\pregel\\__init__.py:2436\u001b[0m, in \u001b[0;36mPregel.stream\u001b[1;34m(self, input, config, stream_mode, output_keys, interrupt_before, interrupt_after, checkpoint_during, debug, subgraphs)\u001b[0m\n\u001b[0;32m   2434\u001b[0m         \u001b[38;5;28;01mfor\u001b[39;00m task \u001b[38;5;129;01min\u001b[39;00m loop\u001b[38;5;241m.\u001b[39mmatch_cached_writes():\n\u001b[0;32m   2435\u001b[0m             loop\u001b[38;5;241m.\u001b[39moutput_writes(task\u001b[38;5;241m.\u001b[39mid, task\u001b[38;5;241m.\u001b[39mwrites, cached\u001b[38;5;241m=\u001b[39m\u001b[38;5;28;01mTrue\u001b[39;00m)\n\u001b[1;32m-> 2436\u001b[0m \u001b[43m        \u001b[49m\u001b[38;5;28;43;01mfor\u001b[39;49;00m\u001b[43m \u001b[49m\u001b[43m_\u001b[49m\u001b[43m \u001b[49m\u001b[38;5;129;43;01min\u001b[39;49;00m\u001b[43m \u001b[49m\u001b[43mrunner\u001b[49m\u001b[38;5;241;43m.\u001b[39;49m\u001b[43mtick\u001b[49m\u001b[43m(\u001b[49m\n\u001b[0;32m   2437\u001b[0m \u001b[43m            \u001b[49m\u001b[43m[\u001b[49m\u001b[43mt\u001b[49m\u001b[43m \u001b[49m\u001b[38;5;28;43;01mfor\u001b[39;49;00m\u001b[43m \u001b[49m\u001b[43mt\u001b[49m\u001b[43m \u001b[49m\u001b[38;5;129;43;01min\u001b[39;49;00m\u001b[43m \u001b[49m\u001b[43mloop\u001b[49m\u001b[38;5;241;43m.\u001b[39;49m\u001b[43mtasks\u001b[49m\u001b[38;5;241;43m.\u001b[39;49m\u001b[43mvalues\u001b[49m\u001b[43m(\u001b[49m\u001b[43m)\u001b[49m\u001b[43m \u001b[49m\u001b[38;5;28;43;01mif\u001b[39;49;00m\u001b[43m \u001b[49m\u001b[38;5;129;43;01mnot\u001b[39;49;00m\u001b[43m \u001b[49m\u001b[43mt\u001b[49m\u001b[38;5;241;43m.\u001b[39;49m\u001b[43mwrites\u001b[49m\u001b[43m]\u001b[49m\u001b[43m,\u001b[49m\n\u001b[0;32m   2438\u001b[0m \u001b[43m            \u001b[49m\u001b[43mtimeout\u001b[49m\u001b[38;5;241;43m=\u001b[39;49m\u001b[38;5;28;43mself\u001b[39;49m\u001b[38;5;241;43m.\u001b[39;49m\u001b[43mstep_timeout\u001b[49m\u001b[43m,\u001b[49m\n\u001b[0;32m   2439\u001b[0m \u001b[43m            \u001b[49m\u001b[43mget_waiter\u001b[49m\u001b[38;5;241;43m=\u001b[39;49m\u001b[43mget_waiter\u001b[49m\u001b[43m,\u001b[49m\n\u001b[0;32m   2440\u001b[0m \u001b[43m            \u001b[49m\u001b[43mschedule_task\u001b[49m\u001b[38;5;241;43m=\u001b[39;49m\u001b[43mloop\u001b[49m\u001b[38;5;241;43m.\u001b[39;49m\u001b[43maccept_push\u001b[49m\u001b[43m,\u001b[49m\n\u001b[0;32m   2441\u001b[0m \u001b[43m        \u001b[49m\u001b[43m)\u001b[49m\u001b[43m:\u001b[49m\n\u001b[0;32m   2442\u001b[0m \u001b[43m            \u001b[49m\u001b[38;5;66;43;03m# emit output\u001b[39;49;00m\n\u001b[0;32m   2443\u001b[0m \u001b[43m            \u001b[49m\u001b[38;5;28;43;01myield from\u001b[39;49;00m\u001b[43m \u001b[49m\u001b[43moutput\u001b[49m\u001b[43m(\u001b[49m\u001b[43m)\u001b[49m\n\u001b[0;32m   2444\u001b[0m \u001b[38;5;66;03m# emit output\u001b[39;00m\n",
      "File \u001b[1;32mc:\\Users\\ranga\\AppData\\Local\\Programs\\Python\\Python311\\Lib\\site-packages\\langgraph\\pregel\\runner.py:161\u001b[0m, in \u001b[0;36mPregelRunner.tick\u001b[1;34m(self, tasks, reraise, timeout, retry_policy, get_waiter, schedule_task)\u001b[0m\n\u001b[0;32m    159\u001b[0m t \u001b[38;5;241m=\u001b[39m tasks[\u001b[38;5;241m0\u001b[39m]\n\u001b[0;32m    160\u001b[0m \u001b[38;5;28;01mtry\u001b[39;00m:\n\u001b[1;32m--> 161\u001b[0m     \u001b[43mrun_with_retry\u001b[49m\u001b[43m(\u001b[49m\n\u001b[0;32m    162\u001b[0m \u001b[43m        \u001b[49m\u001b[43mt\u001b[49m\u001b[43m,\u001b[49m\n\u001b[0;32m    163\u001b[0m \u001b[43m        \u001b[49m\u001b[43mretry_policy\u001b[49m\u001b[43m,\u001b[49m\n\u001b[0;32m    164\u001b[0m \u001b[43m        \u001b[49m\u001b[43mconfigurable\u001b[49m\u001b[38;5;241;43m=\u001b[39;49m\u001b[43m{\u001b[49m\n\u001b[0;32m    165\u001b[0m \u001b[43m            \u001b[49m\u001b[43mCONFIG_KEY_CALL\u001b[49m\u001b[43m:\u001b[49m\u001b[43m \u001b[49m\u001b[43mpartial\u001b[49m\u001b[43m(\u001b[49m\n\u001b[0;32m    166\u001b[0m \u001b[43m                \u001b[49m\u001b[43m_call\u001b[49m\u001b[43m,\u001b[49m\n\u001b[0;32m    167\u001b[0m \u001b[43m                \u001b[49m\u001b[43mweakref\u001b[49m\u001b[38;5;241;43m.\u001b[39;49m\u001b[43mref\u001b[49m\u001b[43m(\u001b[49m\u001b[43mt\u001b[49m\u001b[43m)\u001b[49m\u001b[43m,\u001b[49m\n\u001b[0;32m    168\u001b[0m \u001b[43m                \u001b[49m\u001b[43mretry\u001b[49m\u001b[38;5;241;43m=\u001b[39;49m\u001b[43mretry_policy\u001b[49m\u001b[43m,\u001b[49m\n\u001b[0;32m    169\u001b[0m \u001b[43m                \u001b[49m\u001b[43mfutures\u001b[49m\u001b[38;5;241;43m=\u001b[39;49m\u001b[43mweakref\u001b[49m\u001b[38;5;241;43m.\u001b[39;49m\u001b[43mref\u001b[49m\u001b[43m(\u001b[49m\u001b[43mfutures\u001b[49m\u001b[43m)\u001b[49m\u001b[43m,\u001b[49m\n\u001b[0;32m    170\u001b[0m \u001b[43m                \u001b[49m\u001b[43mschedule_task\u001b[49m\u001b[38;5;241;43m=\u001b[39;49m\u001b[43mschedule_task\u001b[49m\u001b[43m,\u001b[49m\n\u001b[0;32m    171\u001b[0m \u001b[43m                \u001b[49m\u001b[43msubmit\u001b[49m\u001b[38;5;241;43m=\u001b[39;49m\u001b[38;5;28;43mself\u001b[39;49m\u001b[38;5;241;43m.\u001b[39;49m\u001b[43msubmit\u001b[49m\u001b[43m,\u001b[49m\n\u001b[0;32m    172\u001b[0m \u001b[43m            \u001b[49m\u001b[43m)\u001b[49m\u001b[43m,\u001b[49m\n\u001b[0;32m    173\u001b[0m \u001b[43m        \u001b[49m\u001b[43m}\u001b[49m\u001b[43m,\u001b[49m\n\u001b[0;32m    174\u001b[0m \u001b[43m    \u001b[49m\u001b[43m)\u001b[49m\n\u001b[0;32m    175\u001b[0m     \u001b[38;5;28mself\u001b[39m\u001b[38;5;241m.\u001b[39mcommit(t, \u001b[38;5;28;01mNone\u001b[39;00m)\n\u001b[0;32m    176\u001b[0m \u001b[38;5;28;01mexcept\u001b[39;00m \u001b[38;5;167;01mException\u001b[39;00m \u001b[38;5;28;01mas\u001b[39;00m exc:\n",
      "File \u001b[1;32mc:\\Users\\ranga\\AppData\\Local\\Programs\\Python\\Python311\\Lib\\site-packages\\langgraph\\pregel\\retry.py:40\u001b[0m, in \u001b[0;36mrun_with_retry\u001b[1;34m(task, retry_policy, configurable)\u001b[0m\n\u001b[0;32m     38\u001b[0m     task\u001b[38;5;241m.\u001b[39mwrites\u001b[38;5;241m.\u001b[39mclear()\n\u001b[0;32m     39\u001b[0m     \u001b[38;5;66;03m# run the task\u001b[39;00m\n\u001b[1;32m---> 40\u001b[0m     \u001b[38;5;28;01mreturn\u001b[39;00m \u001b[43mtask\u001b[49m\u001b[38;5;241;43m.\u001b[39;49m\u001b[43mproc\u001b[49m\u001b[38;5;241;43m.\u001b[39;49m\u001b[43minvoke\u001b[49m\u001b[43m(\u001b[49m\u001b[43mtask\u001b[49m\u001b[38;5;241;43m.\u001b[39;49m\u001b[43minput\u001b[49m\u001b[43m,\u001b[49m\u001b[43m \u001b[49m\u001b[43mconfig\u001b[49m\u001b[43m)\u001b[49m\n\u001b[0;32m     41\u001b[0m \u001b[38;5;28;01mexcept\u001b[39;00m ParentCommand \u001b[38;5;28;01mas\u001b[39;00m exc:\n\u001b[0;32m     42\u001b[0m     ns: \u001b[38;5;28mstr\u001b[39m \u001b[38;5;241m=\u001b[39m config[CONF][CONFIG_KEY_CHECKPOINT_NS]\n",
      "File \u001b[1;32mc:\\Users\\ranga\\AppData\\Local\\Programs\\Python\\Python311\\Lib\\site-packages\\langgraph\\utils\\runnable.py:623\u001b[0m, in \u001b[0;36mRunnableSeq.invoke\u001b[1;34m(self, input, config, **kwargs)\u001b[0m\n\u001b[0;32m    621\u001b[0m     \u001b[38;5;66;03m# run in context\u001b[39;00m\n\u001b[0;32m    622\u001b[0m     \u001b[38;5;28;01mwith\u001b[39;00m set_config_context(config, run) \u001b[38;5;28;01mas\u001b[39;00m context:\n\u001b[1;32m--> 623\u001b[0m         \u001b[38;5;28minput\u001b[39m \u001b[38;5;241m=\u001b[39m \u001b[43mcontext\u001b[49m\u001b[38;5;241;43m.\u001b[39;49m\u001b[43mrun\u001b[49m\u001b[43m(\u001b[49m\u001b[43mstep\u001b[49m\u001b[38;5;241;43m.\u001b[39;49m\u001b[43minvoke\u001b[49m\u001b[43m,\u001b[49m\u001b[43m \u001b[49m\u001b[38;5;28;43minput\u001b[39;49m\u001b[43m,\u001b[49m\u001b[43m \u001b[49m\u001b[43mconfig\u001b[49m\u001b[43m,\u001b[49m\u001b[43m \u001b[49m\u001b[38;5;241;43m*\u001b[39;49m\u001b[38;5;241;43m*\u001b[39;49m\u001b[43mkwargs\u001b[49m\u001b[43m)\u001b[49m\n\u001b[0;32m    624\u001b[0m \u001b[38;5;28;01melse\u001b[39;00m:\n\u001b[0;32m    625\u001b[0m     \u001b[38;5;28minput\u001b[39m \u001b[38;5;241m=\u001b[39m step\u001b[38;5;241m.\u001b[39minvoke(\u001b[38;5;28minput\u001b[39m, config)\n",
      "File \u001b[1;32mc:\\Users\\ranga\\AppData\\Local\\Programs\\Python\\Python311\\Lib\\site-packages\\langgraph\\utils\\runnable.py:377\u001b[0m, in \u001b[0;36mRunnableCallable.invoke\u001b[1;34m(self, input, config, **kwargs)\u001b[0m\n\u001b[0;32m    375\u001b[0m         run_manager\u001b[38;5;241m.\u001b[39mon_chain_end(ret)\n\u001b[0;32m    376\u001b[0m \u001b[38;5;28;01melse\u001b[39;00m:\n\u001b[1;32m--> 377\u001b[0m     ret \u001b[38;5;241m=\u001b[39m \u001b[38;5;28;43mself\u001b[39;49m\u001b[38;5;241;43m.\u001b[39;49m\u001b[43mfunc\u001b[49m\u001b[43m(\u001b[49m\u001b[38;5;241;43m*\u001b[39;49m\u001b[43margs\u001b[49m\u001b[43m,\u001b[49m\u001b[43m \u001b[49m\u001b[38;5;241;43m*\u001b[39;49m\u001b[38;5;241;43m*\u001b[39;49m\u001b[43mkwargs\u001b[49m\u001b[43m)\u001b[49m\n\u001b[0;32m    378\u001b[0m \u001b[38;5;28;01mif\u001b[39;00m \u001b[38;5;28mself\u001b[39m\u001b[38;5;241m.\u001b[39mrecurse \u001b[38;5;129;01mand\u001b[39;00m \u001b[38;5;28misinstance\u001b[39m(ret, Runnable):\n\u001b[0;32m    379\u001b[0m     \u001b[38;5;28;01mreturn\u001b[39;00m ret\u001b[38;5;241m.\u001b[39minvoke(\u001b[38;5;28minput\u001b[39m, config)\n",
      "Cell \u001b[1;32mIn[62], line 2\u001b[0m, in \u001b[0;36msuperbot\u001b[1;34m(state)\u001b[0m\n\u001b[0;32m      1\u001b[0m \u001b[38;5;28;01mdef\u001b[39;00m \u001b[38;5;21msuperbot\u001b[39m(state:State):\n\u001b[1;32m----> 2\u001b[0m     \u001b[38;5;28;01mreturn\u001b[39;00m {\u001b[38;5;124m\"\u001b[39m\u001b[38;5;124mmessages\u001b[39m\u001b[38;5;124m\"\u001b[39m,{llm\u001b[38;5;241m.\u001b[39minvoke(state[\u001b[38;5;124m\"\u001b[39m\u001b[38;5;124mmessages\u001b[39m\u001b[38;5;124m\"\u001b[39m])}}\n",
      "\u001b[1;31mTypeError\u001b[0m: unhashable type: 'AIMessage'",
      "\u001b[0mDuring task with name 'Superbot' and id 'e0cc6ebe-7c29-ec3c-d986-14ee3a8d8627'"
     ]
    }
   ],
   "source": [
    "# Create a thread\n",
    "config = {\"configurable\": {\"thread_id\": \"3\"}}\n",
    "\n",
    "for chunk in graph_builder.stream({'messages':\"Hi,My name is Krish And I like cricket\"},config,stream_mode=\"updates\"):\n",
    "    print(chunk)"
   ]
  },
  {
   "cell_type": "code",
   "execution_count": null,
   "id": "51426525",
   "metadata": {},
   "outputs": [],
   "source": []
  }
 ],
 "metadata": {
  "kernelspec": {
   "display_name": "Python 3",
   "language": "python",
   "name": "python3"
  },
  "language_info": {
   "codemirror_mode": {
    "name": "ipython",
    "version": 3
   },
   "file_extension": ".py",
   "mimetype": "text/x-python",
   "name": "python",
   "nbconvert_exporter": "python",
   "pygments_lexer": "ipython3",
   "version": "3.11.5"
  }
 },
 "nbformat": 4,
 "nbformat_minor": 5
}
